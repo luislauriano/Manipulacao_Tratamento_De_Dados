{
  "nbformat": 4,
  "nbformat_minor": 0,
  "metadata": {
    "colab": {
      "name": "Projeto_DesafioFinal.ipynb",
      "provenance": [],
      "authorship_tag": "ABX9TyMBbx/pC+ld7Db+2JVDz/jd",
      "include_colab_link": true
    },
    "kernelspec": {
      "name": "python3",
      "display_name": "Python 3"
    }
  },
  "cells": [
    {
      "cell_type": "markdown",
      "metadata": {
        "id": "view-in-github",
        "colab_type": "text"
      },
      "source": [
        "<a href=\"https://colab.research.google.com/github/luislauriano/Manipulacao_Tratamento_De_Dados/blob/master/Projeto_DesafioFinal.ipynb\" target=\"_parent\"><img src=\"https://colab.research.google.com/assets/colab-badge.svg\" alt=\"Open In Colab\"/></a>"
      ]
    },
    {
      "cell_type": "markdown",
      "metadata": {
        "id": "Cq8Xsy_32hyS",
        "colab_type": "text"
      },
      "source": [
        "# **Atividades**\n",
        "* 1. Leitura de arquivos\n",
        "* 2. Tratamento de dados\n",
        "  * 2.1. Renomear colunas\n",
        "  * 2.2. Verificar tipos\n",
        "  * 2.3. Deletar dados\n",
        "* 3. Concatenar Tabelas\n",
        "* 4. Correlação de Tabelas\n",
        "* 5. Regra de Negócio\n",
        "* 6. Exportar Dados"
      ]
    },
    {
      "cell_type": "markdown",
      "metadata": {
        "id": "3emU6dK83ang",
        "colab_type": "text"
      },
      "source": [
        "Ojetivo: Através da manipulação dos dados, preparar e tratar os dados dos conjunto de dados de vendas e detalhamento. Para gerar uma unica base de dados, que irá servir como relatório, indicador. "
      ]
    },
    {
      "cell_type": "markdown",
      "metadata": {
        "id": "KoRf_kyF4rVg",
        "colab_type": "text"
      },
      "source": [
        "# **Importar biblioteca**"
      ]
    },
    {
      "cell_type": "code",
      "metadata": {
        "id": "7X1bIjc14IxZ",
        "colab_type": "code",
        "colab": {}
      },
      "source": [
        "import pandas as pd"
      ],
      "execution_count": 0,
      "outputs": []
    },
    {
      "cell_type": "markdown",
      "metadata": {
        "id": "41RW2g9d4yYn",
        "colab_type": "text"
      },
      "source": [
        "# **Leitura de arquivos**"
      ]
    },
    {
      "cell_type": "markdown",
      "metadata": {
        "id": "qCLjPMLy8N2W",
        "colab_type": "text"
      },
      "source": [
        "# Arquivos CSV"
      ]
    },
    {
      "cell_type": "code",
      "metadata": {
        "id": "pR3N-j2V8Qz-",
        "colab_type": "code",
        "colab": {}
      },
      "source": [
        "df_vendas = pd.read_csv('vendas.csv', sep ='|')"
      ],
      "execution_count": 0,
      "outputs": []
    },
    {
      "cell_type": "markdown",
      "metadata": {
        "id": "e4UPHjZC8U0H",
        "colab_type": "text"
      },
      "source": [
        "# Arquivos XLSX"
      ]
    },
    {
      "cell_type": "code",
      "metadata": {
        "id": "azb_Ym-X4wlG",
        "colab_type": "code",
        "colab": {}
      },
      "source": [
        "df_detalhamentoAM = pd.read_excel('detalhamento.xlsx', sheet_name='AM', skiprows=1 )\n",
        "df_detalhamentoRR = pd.read_excel('detalhamento.xlsx', sheet_name='RR', skiprows=1 )\n",
        "df_detalhamentoRO = pd.read_excel('detalhamento.xlsx', sheet_name='RO', skiprows=1 )\n",
        "df_detalhamentoAC = pd.read_excel('detalhamento.xlsx', sheet_name='AC', skiprows=1 )"
      ],
      "execution_count": 0,
      "outputs": []
    },
    {
      "cell_type": "markdown",
      "metadata": {
        "id": "u5k9XhXS8m_2",
        "colab_type": "text"
      },
      "source": [
        "# **Tratamento de Dados**"
      ]
    },
    {
      "cell_type": "markdown",
      "metadata": {
        "id": "K9y_tRY28rDq",
        "colab_type": "text"
      },
      "source": [
        "## Renomeando colunas"
      ]
    },
    {
      "cell_type": "code",
      "metadata": {
        "id": "Zjd93Kcn87jm",
        "colab_type": "code",
        "outputId": "e2c5bbaf-aaaf-492b-970d-5e42338e98e7",
        "colab": {
          "base_uri": "https://localhost:8080/",
          "height": 142
        }
      },
      "source": [
        "df_vendas.columns = ['escritorio', 'operadora', 'material', 'data', 'valor_liquido']\n",
        "df_vendas.head(3)"
      ],
      "execution_count": 0,
      "outputs": [
        {
          "output_type": "execute_result",
          "data": {
            "text/html": [
              "<div>\n",
              "<style scoped>\n",
              "    .dataframe tbody tr th:only-of-type {\n",
              "        vertical-align: middle;\n",
              "    }\n",
              "\n",
              "    .dataframe tbody tr th {\n",
              "        vertical-align: top;\n",
              "    }\n",
              "\n",
              "    .dataframe thead th {\n",
              "        text-align: right;\n",
              "    }\n",
              "</style>\n",
              "<table border=\"1\" class=\"dataframe\">\n",
              "  <thead>\n",
              "    <tr style=\"text-align: right;\">\n",
              "      <th></th>\n",
              "      <th>escritorio</th>\n",
              "      <th>operadora</th>\n",
              "      <th>material</th>\n",
              "      <th>data</th>\n",
              "      <th>valor_liquido</th>\n",
              "    </tr>\n",
              "  </thead>\n",
              "  <tbody>\n",
              "    <tr>\n",
              "      <th>0</th>\n",
              "      <td>101</td>\n",
              "      <td>Vivo</td>\n",
              "      <td>131318             RECARGA VIRTUAL VIVO R$ 1,00</td>\n",
              "      <td>02.01.2020</td>\n",
              "      <td>20.0</td>\n",
              "    </tr>\n",
              "    <tr>\n",
              "      <th>1</th>\n",
              "      <td>101</td>\n",
              "      <td>Vivo</td>\n",
              "      <td>131318             RECARGA VIRTUAL VIVO R$ 1,00</td>\n",
              "      <td>30.12.2019</td>\n",
              "      <td>10.0</td>\n",
              "    </tr>\n",
              "    <tr>\n",
              "      <th>2</th>\n",
              "      <td>101</td>\n",
              "      <td>Vivo</td>\n",
              "      <td>131318             RECARGA VIRTUAL VIVO R$ 1,00</td>\n",
              "      <td>04.01.2020</td>\n",
              "      <td>20.0</td>\n",
              "    </tr>\n",
              "  </tbody>\n",
              "</table>\n",
              "</div>"
            ],
            "text/plain": [
              "   escritorio operadora  ...        data valor_liquido\n",
              "0         101      Vivo  ...  02.01.2020          20.0\n",
              "1         101      Vivo  ...  30.12.2019          10.0\n",
              "2         101      Vivo  ...  04.01.2020          20.0\n",
              "\n",
              "[3 rows x 5 columns]"
            ]
          },
          "metadata": {
            "tags": []
          },
          "execution_count": 550
        }
      ]
    },
    {
      "cell_type": "code",
      "metadata": {
        "id": "71Vav_rn89GO",
        "colab_type": "code",
        "outputId": "fc03a6f9-681d-406e-90ad-8ec0e7f76359",
        "colab": {
          "base_uri": "https://localhost:8080/",
          "height": 142
        }
      },
      "source": [
        "df_detalhamentoAM.columns = ['loja', 'escritorio', 'uf', 'operadora', 'valor_bruto']\n",
        "df_detalhamentoAM.head(3)"
      ],
      "execution_count": 0,
      "outputs": [
        {
          "output_type": "execute_result",
          "data": {
            "text/html": [
              "<div>\n",
              "<style scoped>\n",
              "    .dataframe tbody tr th:only-of-type {\n",
              "        vertical-align: middle;\n",
              "    }\n",
              "\n",
              "    .dataframe tbody tr th {\n",
              "        vertical-align: top;\n",
              "    }\n",
              "\n",
              "    .dataframe thead th {\n",
              "        text-align: right;\n",
              "    }\n",
              "</style>\n",
              "<table border=\"1\" class=\"dataframe\">\n",
              "  <thead>\n",
              "    <tr style=\"text-align: right;\">\n",
              "      <th></th>\n",
              "      <th>loja</th>\n",
              "      <th>escritorio</th>\n",
              "      <th>uf</th>\n",
              "      <th>operadora</th>\n",
              "      <th>valor_bruto</th>\n",
              "    </tr>\n",
              "  </thead>\n",
              "  <tbody>\n",
              "    <tr>\n",
              "      <th>0</th>\n",
              "      <td>BEMOL AVENIDA</td>\n",
              "      <td>103</td>\n",
              "      <td>AM</td>\n",
              "      <td>Claro</td>\n",
              "      <td>2651</td>\n",
              "    </tr>\n",
              "    <tr>\n",
              "      <th>1</th>\n",
              "      <td>BEMOL AVENIDA</td>\n",
              "      <td>103</td>\n",
              "      <td>AM</td>\n",
              "      <td>Oi</td>\n",
              "      <td>3309</td>\n",
              "    </tr>\n",
              "    <tr>\n",
              "      <th>2</th>\n",
              "      <td>BEMOL AVENIDA</td>\n",
              "      <td>103</td>\n",
              "      <td>AM</td>\n",
              "      <td>Tim</td>\n",
              "      <td>1550</td>\n",
              "    </tr>\n",
              "  </tbody>\n",
              "</table>\n",
              "</div>"
            ],
            "text/plain": [
              "            loja  escritorio  uf operadora  valor_bruto\n",
              "0  BEMOL AVENIDA         103  AM     Claro         2651\n",
              "1  BEMOL AVENIDA         103  AM        Oi         3309\n",
              "2  BEMOL AVENIDA         103  AM       Tim         1550"
            ]
          },
          "metadata": {
            "tags": []
          },
          "execution_count": 551
        }
      ]
    },
    {
      "cell_type": "code",
      "metadata": {
        "id": "pLTqJdlm-zmJ",
        "colab_type": "code",
        "outputId": "b4097f47-3aa4-42ea-d3b7-0a6ad7e04f48",
        "colab": {
          "base_uri": "https://localhost:8080/",
          "height": 142
        }
      },
      "source": [
        "df_detalhamentoRR.columns = ['loja', 'escritorio', 'uf', 'operadora', 'valor_bruto']\n",
        "df_detalhamentoRR.head(3)"
      ],
      "execution_count": 0,
      "outputs": [
        {
          "output_type": "execute_result",
          "data": {
            "text/html": [
              "<div>\n",
              "<style scoped>\n",
              "    .dataframe tbody tr th:only-of-type {\n",
              "        vertical-align: middle;\n",
              "    }\n",
              "\n",
              "    .dataframe tbody tr th {\n",
              "        vertical-align: top;\n",
              "    }\n",
              "\n",
              "    .dataframe thead th {\n",
              "        text-align: right;\n",
              "    }\n",
              "</style>\n",
              "<table border=\"1\" class=\"dataframe\">\n",
              "  <thead>\n",
              "    <tr style=\"text-align: right;\">\n",
              "      <th></th>\n",
              "      <th>loja</th>\n",
              "      <th>escritorio</th>\n",
              "      <th>uf</th>\n",
              "      <th>operadora</th>\n",
              "      <th>valor_bruto</th>\n",
              "    </tr>\n",
              "  </thead>\n",
              "  <tbody>\n",
              "    <tr>\n",
              "      <th>0</th>\n",
              "      <td>BEMOL BOA VISTA</td>\n",
              "      <td>701</td>\n",
              "      <td>RR</td>\n",
              "      <td>Claro</td>\n",
              "      <td>140</td>\n",
              "    </tr>\n",
              "    <tr>\n",
              "      <th>1</th>\n",
              "      <td>BEMOL BOA VISTA</td>\n",
              "      <td>701</td>\n",
              "      <td>RR</td>\n",
              "      <td>Oi</td>\n",
              "      <td>20</td>\n",
              "    </tr>\n",
              "    <tr>\n",
              "      <th>2</th>\n",
              "      <td>BEMOL BOA VISTA</td>\n",
              "      <td>701</td>\n",
              "      <td>RR</td>\n",
              "      <td>Tim</td>\n",
              "      <td>135</td>\n",
              "    </tr>\n",
              "  </tbody>\n",
              "</table>\n",
              "</div>"
            ],
            "text/plain": [
              "              loja  escritorio  uf operadora  valor_bruto\n",
              "0  BEMOL BOA VISTA         701  RR     Claro          140\n",
              "1  BEMOL BOA VISTA         701  RR        Oi           20\n",
              "2  BEMOL BOA VISTA         701  RR       Tim          135"
            ]
          },
          "metadata": {
            "tags": []
          },
          "execution_count": 552
        }
      ]
    },
    {
      "cell_type": "code",
      "metadata": {
        "id": "LYYiy5Pa-6zg",
        "colab_type": "code",
        "outputId": "90d7db70-519f-44ef-b464-3f3de401a849",
        "colab": {
          "base_uri": "https://localhost:8080/",
          "height": 142
        }
      },
      "source": [
        "df_detalhamentoRO.columns = ['loja', 'escritorio', 'uf', 'operadora', 'valor_bruto']\n",
        "df_detalhamentoRO.head(3)"
      ],
      "execution_count": 0,
      "outputs": [
        {
          "output_type": "execute_result",
          "data": {
            "text/html": [
              "<div>\n",
              "<style scoped>\n",
              "    .dataframe tbody tr th:only-of-type {\n",
              "        vertical-align: middle;\n",
              "    }\n",
              "\n",
              "    .dataframe tbody tr th {\n",
              "        vertical-align: top;\n",
              "    }\n",
              "\n",
              "    .dataframe thead th {\n",
              "        text-align: right;\n",
              "    }\n",
              "</style>\n",
              "<table border=\"1\" class=\"dataframe\">\n",
              "  <thead>\n",
              "    <tr style=\"text-align: right;\">\n",
              "      <th></th>\n",
              "      <th>loja</th>\n",
              "      <th>escritorio</th>\n",
              "      <th>uf</th>\n",
              "      <th>operadora</th>\n",
              "      <th>valor_bruto</th>\n",
              "    </tr>\n",
              "  </thead>\n",
              "  <tbody>\n",
              "    <tr>\n",
              "      <th>0</th>\n",
              "      <td>BEMOL FARMA PORTO VELHO</td>\n",
              "      <td>609</td>\n",
              "      <td>RO</td>\n",
              "      <td>Claro</td>\n",
              "      <td>486</td>\n",
              "    </tr>\n",
              "    <tr>\n",
              "      <th>1</th>\n",
              "      <td>BEMOL FARMA PORTO VELHO</td>\n",
              "      <td>609</td>\n",
              "      <td>RO</td>\n",
              "      <td>Oi</td>\n",
              "      <td>90</td>\n",
              "    </tr>\n",
              "    <tr>\n",
              "      <th>2</th>\n",
              "      <td>BEMOL FARMA PORTO VELHO</td>\n",
              "      <td>609</td>\n",
              "      <td>RO</td>\n",
              "      <td>Tim</td>\n",
              "      <td>90</td>\n",
              "    </tr>\n",
              "  </tbody>\n",
              "</table>\n",
              "</div>"
            ],
            "text/plain": [
              "                      loja  escritorio  uf operadora  valor_bruto\n",
              "0  BEMOL FARMA PORTO VELHO         609  RO     Claro          486\n",
              "1  BEMOL FARMA PORTO VELHO         609  RO        Oi           90\n",
              "2  BEMOL FARMA PORTO VELHO         609  RO       Tim           90"
            ]
          },
          "metadata": {
            "tags": []
          },
          "execution_count": 553
        }
      ]
    },
    {
      "cell_type": "code",
      "metadata": {
        "id": "xTO0uH3i_IRA",
        "colab_type": "code",
        "outputId": "45a1e869-19c4-487d-9b66-723eea19c591",
        "colab": {
          "base_uri": "https://localhost:8080/",
          "height": 142
        }
      },
      "source": [
        "df_detalhamentoAC.columns = ['loja', 'escritorio', 'uf', 'operadora', 'valor_bruto']\n",
        "df_detalhamentoAC.head(3)"
      ],
      "execution_count": 0,
      "outputs": [
        {
          "output_type": "execute_result",
          "data": {
            "text/html": [
              "<div>\n",
              "<style scoped>\n",
              "    .dataframe tbody tr th:only-of-type {\n",
              "        vertical-align: middle;\n",
              "    }\n",
              "\n",
              "    .dataframe tbody tr th {\n",
              "        vertical-align: top;\n",
              "    }\n",
              "\n",
              "    .dataframe thead th {\n",
              "        text-align: right;\n",
              "    }\n",
              "</style>\n",
              "<table border=\"1\" class=\"dataframe\">\n",
              "  <thead>\n",
              "    <tr style=\"text-align: right;\">\n",
              "      <th></th>\n",
              "      <th>loja</th>\n",
              "      <th>escritorio</th>\n",
              "      <th>uf</th>\n",
              "      <th>operadora</th>\n",
              "      <th>valor_bruto</th>\n",
              "    </tr>\n",
              "  </thead>\n",
              "  <tbody>\n",
              "    <tr>\n",
              "      <th>0</th>\n",
              "      <td>BEMOL RIO BRANCO</td>\n",
              "      <td>401</td>\n",
              "      <td>AC</td>\n",
              "      <td>Claro</td>\n",
              "      <td>500</td>\n",
              "    </tr>\n",
              "    <tr>\n",
              "      <th>1</th>\n",
              "      <td>BEMOL RIO BRANCO</td>\n",
              "      <td>401</td>\n",
              "      <td>AC</td>\n",
              "      <td>Oi</td>\n",
              "      <td>375</td>\n",
              "    </tr>\n",
              "    <tr>\n",
              "      <th>2</th>\n",
              "      <td>BEMOL RIO BRANCO</td>\n",
              "      <td>401</td>\n",
              "      <td>AC</td>\n",
              "      <td>Tim</td>\n",
              "      <td>125</td>\n",
              "    </tr>\n",
              "  </tbody>\n",
              "</table>\n",
              "</div>"
            ],
            "text/plain": [
              "               loja  escritorio  uf operadora  valor_bruto\n",
              "0  BEMOL RIO BRANCO         401  AC     Claro          500\n",
              "1  BEMOL RIO BRANCO         401  AC        Oi          375\n",
              "2  BEMOL RIO BRANCO         401  AC       Tim          125"
            ]
          },
          "metadata": {
            "tags": []
          },
          "execution_count": 554
        }
      ]
    },
    {
      "cell_type": "markdown",
      "metadata": {
        "id": "XBJ7PUeX_ojb",
        "colab_type": "text"
      },
      "source": [
        "## Verificar tipos de dados"
      ]
    },
    {
      "cell_type": "markdown",
      "metadata": {
        "id": "-I8eyVFX_-kF",
        "colab_type": "text"
      },
      "source": [
        "### Verificar tipos"
      ]
    },
    {
      "cell_type": "code",
      "metadata": {
        "id": "9E4V0A1F_3ku",
        "colab_type": "code",
        "outputId": "72764df7-b485-4538-d414-b7515cf3f8fc",
        "colab": {
          "base_uri": "https://localhost:8080/",
          "height": 119
        }
      },
      "source": [
        "df_vendas.dtypes"
      ],
      "execution_count": 0,
      "outputs": [
        {
          "output_type": "execute_result",
          "data": {
            "text/plain": [
              "escritorio         int64\n",
              "operadora         object\n",
              "material          object\n",
              "data              object\n",
              "valor_liquido    float64\n",
              "dtype: object"
            ]
          },
          "metadata": {
            "tags": []
          },
          "execution_count": 555
        }
      ]
    },
    {
      "cell_type": "code",
      "metadata": {
        "id": "dPEgRE5qAEs0",
        "colab_type": "code",
        "outputId": "36bb18ca-0a92-433f-bfe5-28635b12672b",
        "colab": {
          "base_uri": "https://localhost:8080/",
          "height": 119
        }
      },
      "source": [
        "df_detalhamentoAM.dtypes"
      ],
      "execution_count": 0,
      "outputs": [
        {
          "output_type": "execute_result",
          "data": {
            "text/plain": [
              "loja           object\n",
              "escritorio      int64\n",
              "uf             object\n",
              "operadora      object\n",
              "valor_bruto     int64\n",
              "dtype: object"
            ]
          },
          "metadata": {
            "tags": []
          },
          "execution_count": 556
        }
      ]
    },
    {
      "cell_type": "code",
      "metadata": {
        "colab_type": "code",
        "outputId": "dc774eac-4afa-4a06-e651-8b68d91e5318",
        "id": "crpBh_3lAR4q",
        "colab": {
          "base_uri": "https://localhost:8080/",
          "height": 119
        }
      },
      "source": [
        "df_detalhamentoRR.dtypes"
      ],
      "execution_count": 0,
      "outputs": [
        {
          "output_type": "execute_result",
          "data": {
            "text/plain": [
              "loja           object\n",
              "escritorio      int64\n",
              "uf             object\n",
              "operadora      object\n",
              "valor_bruto     int64\n",
              "dtype: object"
            ]
          },
          "metadata": {
            "tags": []
          },
          "execution_count": 557
        }
      ]
    },
    {
      "cell_type": "code",
      "metadata": {
        "colab_type": "code",
        "outputId": "aaa9b412-6553-4a47-d99c-ef332a1f52f9",
        "id": "nx7eR1kPAThv",
        "colab": {
          "base_uri": "https://localhost:8080/",
          "height": 119
        }
      },
      "source": [
        "df_detalhamentoRO.dtypes"
      ],
      "execution_count": 0,
      "outputs": [
        {
          "output_type": "execute_result",
          "data": {
            "text/plain": [
              "loja           object\n",
              "escritorio      int64\n",
              "uf             object\n",
              "operadora      object\n",
              "valor_bruto     int64\n",
              "dtype: object"
            ]
          },
          "metadata": {
            "tags": []
          },
          "execution_count": 558
        }
      ]
    },
    {
      "cell_type": "code",
      "metadata": {
        "colab_type": "code",
        "outputId": "f4e2652b-3a11-463d-a19c-60d8a4fd0067",
        "id": "hoVPgUY0AVRy",
        "colab": {
          "base_uri": "https://localhost:8080/",
          "height": 119
        }
      },
      "source": [
        "df_detalhamentoAC.dtypes"
      ],
      "execution_count": 0,
      "outputs": [
        {
          "output_type": "execute_result",
          "data": {
            "text/plain": [
              "loja           object\n",
              "escritorio      int64\n",
              "uf             object\n",
              "operadora      object\n",
              "valor_bruto     int64\n",
              "dtype: object"
            ]
          },
          "metadata": {
            "tags": []
          },
          "execution_count": 559
        }
      ]
    },
    {
      "cell_type": "markdown",
      "metadata": {
        "id": "XGjBkpAcCvEl",
        "colab_type": "text"
      },
      "source": [
        "### Alterando tipo de uma coluna"
      ]
    },
    {
      "cell_type": "code",
      "metadata": {
        "id": "sQs2tEPUCy8N",
        "colab_type": "code",
        "colab": {}
      },
      "source": [
        "df_vendas['valor_liquido'] = df_vendas['valor_liquido'].astype(int)"
      ],
      "execution_count": 0,
      "outputs": []
    },
    {
      "cell_type": "markdown",
      "metadata": {
        "id": "A7H5VO4FBz48",
        "colab_type": "text"
      },
      "source": [
        "## Deletar dados"
      ]
    },
    {
      "cell_type": "code",
      "metadata": {
        "id": "nCJn1Uh_B3k3",
        "colab_type": "code",
        "colab": {}
      },
      "source": [
        "df_vendas = df_vendas[['escritorio', 'operadora', 'valor_liquido']].copy()"
      ],
      "execution_count": 0,
      "outputs": []
    },
    {
      "cell_type": "code",
      "metadata": {
        "id": "sxtAfp0MCNph",
        "colab_type": "code",
        "colab": {}
      },
      "source": [
        "df_detalhamentoAM = df_detalhamentoAM[['loja', 'escritorio', 'operadora', 'valor_bruto']].copy()\n",
        "df_detalhamentoRR = df_detalhamentoRR[['loja', 'escritorio', 'operadora', 'valor_bruto']].copy()\n",
        "df_detalhamentoRO = df_detalhamentoRO[['loja', 'escritorio', 'operadora', 'valor_bruto']].copy()\n",
        "df_detalhamentoAC = df_detalhamentoAC[['loja', 'escritorio', 'operadora', 'valor_bruto']].copy()"
      ],
      "execution_count": 0,
      "outputs": []
    },
    {
      "cell_type": "markdown",
      "metadata": {
        "id": "c-0xnQOREOGl",
        "colab_type": "text"
      },
      "source": [
        "# Concatenar tabelas (Juntar tabelas)"
      ]
    },
    {
      "cell_type": "code",
      "metadata": {
        "id": "MTjNJyz8ESw4",
        "colab_type": "code",
        "outputId": "c1e8ea9b-23e7-45d6-b021-bc93bee5807a",
        "colab": {
          "base_uri": "https://localhost:8080/",
          "height": 68
        }
      },
      "source": [
        "print('Amazonas(AM): ')\n",
        "print(f'Linhas: {df_detalhamentoAM.shape[0]}')\n",
        "print(f'Colunas {df_detalhamentoAM.shape[1]}')"
      ],
      "execution_count": 0,
      "outputs": [
        {
          "output_type": "stream",
          "text": [
            "Amazonas(AM): \n",
            "Linhas: 126\n",
            "Colunas 4\n"
          ],
          "name": "stdout"
        }
      ]
    },
    {
      "cell_type": "code",
      "metadata": {
        "id": "_PA1z9m8Ezg0",
        "colab_type": "code",
        "outputId": "d39bc9de-082b-4331-d7e3-a35704ab99af",
        "colab": {
          "base_uri": "https://localhost:8080/",
          "height": 68
        }
      },
      "source": [
        "print('Roraima(RR): ')\n",
        "print(f'Linhas: {df_detalhamentoRR.shape[0]}')\n",
        "print(f'Colunas {df_detalhamentoRR.shape[1]}')"
      ],
      "execution_count": 0,
      "outputs": [
        {
          "output_type": "stream",
          "text": [
            "Roraima(RR): \n",
            "Linhas: 8\n",
            "Colunas 4\n"
          ],
          "name": "stdout"
        }
      ]
    },
    {
      "cell_type": "code",
      "metadata": {
        "id": "PisJfK7hFQaH",
        "colab_type": "code",
        "outputId": "19df1fba-e11b-4b02-ebd5-21ef06db4184",
        "colab": {
          "base_uri": "https://localhost:8080/",
          "height": 68
        }
      },
      "source": [
        "print('Rondônia(RO): ')\n",
        "print(f'Linhas: {df_detalhamentoRO.shape[0]}')\n",
        "print(f'Colunas {df_detalhamentoRO.shape[1]}')"
      ],
      "execution_count": 0,
      "outputs": [
        {
          "output_type": "stream",
          "text": [
            "Rondônia(RO): \n",
            "Linhas: 24\n",
            "Colunas 4\n"
          ],
          "name": "stdout"
        }
      ]
    },
    {
      "cell_type": "code",
      "metadata": {
        "id": "OBsTi0YQFmDR",
        "colab_type": "code",
        "outputId": "e6cd4f30-94ad-48f9-effd-946d89e4b32d",
        "colab": {
          "base_uri": "https://localhost:8080/",
          "height": 68
        }
      },
      "source": [
        "print('Acre(AC): ')\n",
        "print(f'Linhas: {df_detalhamentoAC.shape[0]}')\n",
        "print(f'Colunas {df_detalhamentoAC.shape[1]}')"
      ],
      "execution_count": 0,
      "outputs": [
        {
          "output_type": "stream",
          "text": [
            "Acre(AC): \n",
            "Linhas: 4\n",
            "Colunas 4\n"
          ],
          "name": "stdout"
        }
      ]
    },
    {
      "cell_type": "markdown",
      "metadata": {
        "id": "HCALI1SoGTmd",
        "colab_type": "text"
      },
      "source": [
        "Agora vamos unificar todos esses conjuntos de dados em um único DF"
      ]
    },
    {
      "cell_type": "code",
      "metadata": {
        "id": "FkpuDsmdFu7u",
        "colab_type": "code",
        "colab": {}
      },
      "source": [
        "df_detalhamento = pd.concat([df_detalhamentoAM,df_detalhamentoRR, df_detalhamentoRO, df_detalhamentoAC])"
      ],
      "execution_count": 0,
      "outputs": []
    },
    {
      "cell_type": "code",
      "metadata": {
        "id": "e0I_QywJGwz2",
        "colab_type": "code",
        "outputId": "674ba9e6-f445-42e4-eff8-040cb7757475",
        "colab": {
          "base_uri": "https://localhost:8080/",
          "height": 419
        }
      },
      "source": [
        "df_detalhamento = df_detalhamento.reset_index(drop=True)\n",
        "df_detalhamento"
      ],
      "execution_count": 0,
      "outputs": [
        {
          "output_type": "execute_result",
          "data": {
            "text/html": [
              "<div>\n",
              "<style scoped>\n",
              "    .dataframe tbody tr th:only-of-type {\n",
              "        vertical-align: middle;\n",
              "    }\n",
              "\n",
              "    .dataframe tbody tr th {\n",
              "        vertical-align: top;\n",
              "    }\n",
              "\n",
              "    .dataframe thead th {\n",
              "        text-align: right;\n",
              "    }\n",
              "</style>\n",
              "<table border=\"1\" class=\"dataframe\">\n",
              "  <thead>\n",
              "    <tr style=\"text-align: right;\">\n",
              "      <th></th>\n",
              "      <th>loja</th>\n",
              "      <th>escritorio</th>\n",
              "      <th>operadora</th>\n",
              "      <th>valor_bruto</th>\n",
              "    </tr>\n",
              "  </thead>\n",
              "  <tbody>\n",
              "    <tr>\n",
              "      <th>0</th>\n",
              "      <td>BEMOL AVENIDA</td>\n",
              "      <td>103</td>\n",
              "      <td>Claro</td>\n",
              "      <td>2651</td>\n",
              "    </tr>\n",
              "    <tr>\n",
              "      <th>1</th>\n",
              "      <td>BEMOL AVENIDA</td>\n",
              "      <td>103</td>\n",
              "      <td>Oi</td>\n",
              "      <td>3309</td>\n",
              "    </tr>\n",
              "    <tr>\n",
              "      <th>2</th>\n",
              "      <td>BEMOL AVENIDA</td>\n",
              "      <td>103</td>\n",
              "      <td>Tim</td>\n",
              "      <td>1550</td>\n",
              "    </tr>\n",
              "    <tr>\n",
              "      <th>3</th>\n",
              "      <td>BEMOL AVENIDA</td>\n",
              "      <td>103</td>\n",
              "      <td>Vivo</td>\n",
              "      <td>4739</td>\n",
              "    </tr>\n",
              "    <tr>\n",
              "      <th>4</th>\n",
              "      <td>BEMOL BARROSO</td>\n",
              "      <td>107</td>\n",
              "      <td>Claro</td>\n",
              "      <td>1495</td>\n",
              "    </tr>\n",
              "    <tr>\n",
              "      <th>...</th>\n",
              "      <td>...</td>\n",
              "      <td>...</td>\n",
              "      <td>...</td>\n",
              "      <td>...</td>\n",
              "    </tr>\n",
              "    <tr>\n",
              "      <th>157</th>\n",
              "      <td>LOJA BEMOL JI-PARANA</td>\n",
              "      <td>205</td>\n",
              "      <td>Claro</td>\n",
              "      <td>123</td>\n",
              "    </tr>\n",
              "    <tr>\n",
              "      <th>158</th>\n",
              "      <td>BEMOL RIO BRANCO</td>\n",
              "      <td>401</td>\n",
              "      <td>Claro</td>\n",
              "      <td>500</td>\n",
              "    </tr>\n",
              "    <tr>\n",
              "      <th>159</th>\n",
              "      <td>BEMOL RIO BRANCO</td>\n",
              "      <td>401</td>\n",
              "      <td>Oi</td>\n",
              "      <td>375</td>\n",
              "    </tr>\n",
              "    <tr>\n",
              "      <th>160</th>\n",
              "      <td>BEMOL RIO BRANCO</td>\n",
              "      <td>401</td>\n",
              "      <td>Tim</td>\n",
              "      <td>125</td>\n",
              "    </tr>\n",
              "    <tr>\n",
              "      <th>161</th>\n",
              "      <td>BEMOL RIO BRANCO</td>\n",
              "      <td>401</td>\n",
              "      <td>Vivo</td>\n",
              "      <td>343</td>\n",
              "    </tr>\n",
              "  </tbody>\n",
              "</table>\n",
              "<p>162 rows × 4 columns</p>\n",
              "</div>"
            ],
            "text/plain": [
              "                     loja  escritorio operadora  valor_bruto\n",
              "0           BEMOL AVENIDA         103     Claro         2651\n",
              "1           BEMOL AVENIDA         103        Oi         3309\n",
              "2           BEMOL AVENIDA         103       Tim         1550\n",
              "3           BEMOL AVENIDA         103      Vivo         4739\n",
              "4           BEMOL BARROSO         107     Claro         1495\n",
              "..                    ...         ...       ...          ...\n",
              "157  LOJA BEMOL JI-PARANA         205     Claro          123\n",
              "158      BEMOL RIO BRANCO         401     Claro          500\n",
              "159      BEMOL RIO BRANCO         401        Oi          375\n",
              "160      BEMOL RIO BRANCO         401       Tim          125\n",
              "161      BEMOL RIO BRANCO         401      Vivo          343\n",
              "\n",
              "[162 rows x 4 columns]"
            ]
          },
          "metadata": {
            "tags": []
          },
          "execution_count": 568
        }
      ]
    },
    {
      "cell_type": "markdown",
      "metadata": {
        "id": "5LhLOHgPLJeE",
        "colab_type": "text"
      },
      "source": [
        "# **Correlação de Tabelas**"
      ]
    },
    {
      "cell_type": "markdown",
      "metadata": {
        "id": "V5o4Rov1MnhI",
        "colab_type": "text"
      },
      "source": [
        "## Agrupamento de dados"
      ]
    },
    {
      "cell_type": "code",
      "metadata": {
        "id": "UgK_bDLSOGU4",
        "colab_type": "code",
        "outputId": "f7f33063-66df-481a-dce7-994813efc28b",
        "colab": {
          "base_uri": "https://localhost:8080/",
          "height": 419
        }
      },
      "source": [
        "df_vendas = df_vendas.groupby(['operadora', 'escritorio']).agg({'valor_liquido':'sum'})\n",
        "df_vendas.sort_values(ascending=False, by='valor_liquido').reset_index()"
      ],
      "execution_count": 0,
      "outputs": [
        {
          "output_type": "execute_result",
          "data": {
            "text/html": [
              "<div>\n",
              "<style scoped>\n",
              "    .dataframe tbody tr th:only-of-type {\n",
              "        vertical-align: middle;\n",
              "    }\n",
              "\n",
              "    .dataframe tbody tr th {\n",
              "        vertical-align: top;\n",
              "    }\n",
              "\n",
              "    .dataframe thead th {\n",
              "        text-align: right;\n",
              "    }\n",
              "</style>\n",
              "<table border=\"1\" class=\"dataframe\">\n",
              "  <thead>\n",
              "    <tr style=\"text-align: right;\">\n",
              "      <th></th>\n",
              "      <th>operadora</th>\n",
              "      <th>escritorio</th>\n",
              "      <th>valor_liquido</th>\n",
              "    </tr>\n",
              "  </thead>\n",
              "  <tbody>\n",
              "    <tr>\n",
              "      <th>0</th>\n",
              "      <td>Vivo</td>\n",
              "      <td>103</td>\n",
              "      <td>4739</td>\n",
              "    </tr>\n",
              "    <tr>\n",
              "      <th>1</th>\n",
              "      <td>Vivo</td>\n",
              "      <td>115</td>\n",
              "      <td>4616</td>\n",
              "    </tr>\n",
              "    <tr>\n",
              "      <th>2</th>\n",
              "      <td>Vivo</td>\n",
              "      <td>604</td>\n",
              "      <td>4474</td>\n",
              "    </tr>\n",
              "    <tr>\n",
              "      <th>3</th>\n",
              "      <td>Vivo</td>\n",
              "      <td>500</td>\n",
              "      <td>3751</td>\n",
              "    </tr>\n",
              "    <tr>\n",
              "      <th>4</th>\n",
              "      <td>Vivo</td>\n",
              "      <td>106</td>\n",
              "      <td>3717</td>\n",
              "    </tr>\n",
              "    <tr>\n",
              "      <th>...</th>\n",
              "      <td>...</td>\n",
              "      <td>...</td>\n",
              "      <td>...</td>\n",
              "    </tr>\n",
              "    <tr>\n",
              "      <th>158</th>\n",
              "      <td>Oi</td>\n",
              "      <td>701</td>\n",
              "      <td>20</td>\n",
              "    </tr>\n",
              "    <tr>\n",
              "      <th>159</th>\n",
              "      <td>Tim</td>\n",
              "      <td>530</td>\n",
              "      <td>20</td>\n",
              "    </tr>\n",
              "    <tr>\n",
              "      <th>160</th>\n",
              "      <td>Vivo</td>\n",
              "      <td>206</td>\n",
              "      <td>15</td>\n",
              "    </tr>\n",
              "    <tr>\n",
              "      <th>161</th>\n",
              "      <td>Tim</td>\n",
              "      <td>614</td>\n",
              "      <td>10</td>\n",
              "    </tr>\n",
              "    <tr>\n",
              "      <th>162</th>\n",
              "      <td>Tim</td>\n",
              "      <td>611</td>\n",
              "      <td>10</td>\n",
              "    </tr>\n",
              "  </tbody>\n",
              "</table>\n",
              "<p>163 rows × 3 columns</p>\n",
              "</div>"
            ],
            "text/plain": [
              "    operadora  escritorio  valor_liquido\n",
              "0        Vivo         103           4739\n",
              "1        Vivo         115           4616\n",
              "2        Vivo         604           4474\n",
              "3        Vivo         500           3751\n",
              "4        Vivo         106           3717\n",
              "..        ...         ...            ...\n",
              "158        Oi         701             20\n",
              "159       Tim         530             20\n",
              "160      Vivo         206             15\n",
              "161       Tim         614             10\n",
              "162       Tim         611             10\n",
              "\n",
              "[163 rows x 3 columns]"
            ]
          },
          "metadata": {
            "tags": []
          },
          "execution_count": 569
        }
      ]
    },
    {
      "cell_type": "code",
      "metadata": {
        "id": "RtXcTrj6Q0W8",
        "colab_type": "code",
        "outputId": "06d68b08-97e9-4077-8931-b88383f6f92d",
        "colab": {
          "base_uri": "https://localhost:8080/",
          "height": 419
        }
      },
      "source": [
        "df_detalhamento = df_detalhamento.groupby(['loja', 'operadora', 'escritorio']).agg({'valor_bruto':'sum'}).reset_index()\n",
        "df_detalhamento.sort_values(ascending=False, by='valor_bruto').reset_index()"
      ],
      "execution_count": 0,
      "outputs": [
        {
          "output_type": "execute_result",
          "data": {
            "text/html": [
              "<div>\n",
              "<style scoped>\n",
              "    .dataframe tbody tr th:only-of-type {\n",
              "        vertical-align: middle;\n",
              "    }\n",
              "\n",
              "    .dataframe tbody tr th {\n",
              "        vertical-align: top;\n",
              "    }\n",
              "\n",
              "    .dataframe thead th {\n",
              "        text-align: right;\n",
              "    }\n",
              "</style>\n",
              "<table border=\"1\" class=\"dataframe\">\n",
              "  <thead>\n",
              "    <tr style=\"text-align: right;\">\n",
              "      <th></th>\n",
              "      <th>index</th>\n",
              "      <th>loja</th>\n",
              "      <th>operadora</th>\n",
              "      <th>escritorio</th>\n",
              "      <th>valor_bruto</th>\n",
              "    </tr>\n",
              "  </thead>\n",
              "  <tbody>\n",
              "    <tr>\n",
              "      <th>0</th>\n",
              "      <td>3</td>\n",
              "      <td>BEMOL AVENIDA</td>\n",
              "      <td>Vivo</td>\n",
              "      <td>103</td>\n",
              "      <td>4739</td>\n",
              "    </tr>\n",
              "    <tr>\n",
              "      <th>1</th>\n",
              "      <td>19</td>\n",
              "      <td>BEMOL CIDADE NOVA</td>\n",
              "      <td>Vivo</td>\n",
              "      <td>115</td>\n",
              "      <td>4616</td>\n",
              "    </tr>\n",
              "    <tr>\n",
              "      <th>2</th>\n",
              "      <td>43</td>\n",
              "      <td>BEMOL FARMA GRANDE CIRCULAR</td>\n",
              "      <td>Vivo</td>\n",
              "      <td>604</td>\n",
              "      <td>4474</td>\n",
              "    </tr>\n",
              "    <tr>\n",
              "      <th>3</th>\n",
              "      <td>149</td>\n",
              "      <td>BEMOL TORQUATO</td>\n",
              "      <td>Vivo</td>\n",
              "      <td>500</td>\n",
              "      <td>3751</td>\n",
              "    </tr>\n",
              "    <tr>\n",
              "      <th>4</th>\n",
              "      <td>137</td>\n",
              "      <td>BEMOL SHOPPING</td>\n",
              "      <td>Vivo</td>\n",
              "      <td>106</td>\n",
              "      <td>3704</td>\n",
              "    </tr>\n",
              "    <tr>\n",
              "      <th>...</th>\n",
              "      <td>...</td>\n",
              "      <td>...</td>\n",
              "      <td>...</td>\n",
              "      <td>...</td>\n",
              "      <td>...</td>\n",
              "    </tr>\n",
              "    <tr>\n",
              "      <th>157</th>\n",
              "      <td>156</td>\n",
              "      <td>LOJA BEMOL FARMA ARIQUEMES</td>\n",
              "      <td>Vivo</td>\n",
              "      <td>613</td>\n",
              "      <td>35</td>\n",
              "    </tr>\n",
              "    <tr>\n",
              "      <th>158</th>\n",
              "      <td>128</td>\n",
              "      <td>BEMOL PRESIDENTE FIGUEIREDO</td>\n",
              "      <td>Tim</td>\n",
              "      <td>530</td>\n",
              "      <td>20</td>\n",
              "    </tr>\n",
              "    <tr>\n",
              "      <th>159</th>\n",
              "      <td>9</td>\n",
              "      <td>BEMOL BOA VISTA</td>\n",
              "      <td>Oi</td>\n",
              "      <td>701</td>\n",
              "      <td>20</td>\n",
              "    </tr>\n",
              "    <tr>\n",
              "      <th>160</th>\n",
              "      <td>152</td>\n",
              "      <td>LOJA BEMOL ARIQUEMES</td>\n",
              "      <td>Vivo</td>\n",
              "      <td>206</td>\n",
              "      <td>15</td>\n",
              "    </tr>\n",
              "    <tr>\n",
              "      <th>161</th>\n",
              "      <td>46</td>\n",
              "      <td>BEMOL FARMA ITACOATIARA</td>\n",
              "      <td>Tim</td>\n",
              "      <td>611</td>\n",
              "      <td>10</td>\n",
              "    </tr>\n",
              "  </tbody>\n",
              "</table>\n",
              "<p>162 rows × 5 columns</p>\n",
              "</div>"
            ],
            "text/plain": [
              "     index                         loja operadora  escritorio  valor_bruto\n",
              "0        3                BEMOL AVENIDA      Vivo         103         4739\n",
              "1       19            BEMOL CIDADE NOVA      Vivo         115         4616\n",
              "2       43  BEMOL FARMA GRANDE CIRCULAR      Vivo         604         4474\n",
              "3      149               BEMOL TORQUATO      Vivo         500         3751\n",
              "4      137               BEMOL SHOPPING      Vivo         106         3704\n",
              "..     ...                          ...       ...         ...          ...\n",
              "157    156   LOJA BEMOL FARMA ARIQUEMES      Vivo         613           35\n",
              "158    128  BEMOL PRESIDENTE FIGUEIREDO       Tim         530           20\n",
              "159      9              BEMOL BOA VISTA        Oi         701           20\n",
              "160    152         LOJA BEMOL ARIQUEMES      Vivo         206           15\n",
              "161     46      BEMOL FARMA ITACOATIARA       Tim         611           10\n",
              "\n",
              "[162 rows x 5 columns]"
            ]
          },
          "metadata": {
            "tags": []
          },
          "execution_count": 570
        }
      ]
    },
    {
      "cell_type": "markdown",
      "metadata": {
        "id": "chYLModgVmXg",
        "colab_type": "text"
      },
      "source": [
        "## Merge de tabelas"
      ]
    },
    {
      "cell_type": "code",
      "metadata": {
        "id": "6hUUq70OVv1f",
        "colab_type": "code",
        "colab": {}
      },
      "source": [
        "df_relatorio = pd.merge(df_detalhamento, df_vendas, on=['operadora', 'escritorio'], how='right')"
      ],
      "execution_count": 0,
      "outputs": []
    },
    {
      "cell_type": "code",
      "metadata": {
        "id": "b_bT-o9JanEz",
        "colab_type": "code",
        "outputId": "35495f72-49fc-4858-e03a-9673c533957c",
        "colab": {
          "base_uri": "https://localhost:8080/",
          "height": 204
        }
      },
      "source": [
        "df_relatorio.head(5)"
      ],
      "execution_count": 0,
      "outputs": [
        {
          "output_type": "execute_result",
          "data": {
            "text/html": [
              "<div>\n",
              "<style scoped>\n",
              "    .dataframe tbody tr th:only-of-type {\n",
              "        vertical-align: middle;\n",
              "    }\n",
              "\n",
              "    .dataframe tbody tr th {\n",
              "        vertical-align: top;\n",
              "    }\n",
              "\n",
              "    .dataframe thead th {\n",
              "        text-align: right;\n",
              "    }\n",
              "</style>\n",
              "<table border=\"1\" class=\"dataframe\">\n",
              "  <thead>\n",
              "    <tr style=\"text-align: right;\">\n",
              "      <th></th>\n",
              "      <th>loja</th>\n",
              "      <th>operadora</th>\n",
              "      <th>escritorio</th>\n",
              "      <th>valor_bruto</th>\n",
              "      <th>valor_liquido</th>\n",
              "    </tr>\n",
              "  </thead>\n",
              "  <tbody>\n",
              "    <tr>\n",
              "      <th>0</th>\n",
              "      <td>BEMOL AVENIDA</td>\n",
              "      <td>Claro</td>\n",
              "      <td>103</td>\n",
              "      <td>2651.0</td>\n",
              "      <td>2652</td>\n",
              "    </tr>\n",
              "    <tr>\n",
              "      <th>1</th>\n",
              "      <td>BEMOL AVENIDA</td>\n",
              "      <td>Oi</td>\n",
              "      <td>103</td>\n",
              "      <td>3309.0</td>\n",
              "      <td>3309</td>\n",
              "    </tr>\n",
              "    <tr>\n",
              "      <th>2</th>\n",
              "      <td>BEMOL AVENIDA</td>\n",
              "      <td>Tim</td>\n",
              "      <td>103</td>\n",
              "      <td>1550.0</td>\n",
              "      <td>1550</td>\n",
              "    </tr>\n",
              "    <tr>\n",
              "      <th>3</th>\n",
              "      <td>BEMOL AVENIDA</td>\n",
              "      <td>Vivo</td>\n",
              "      <td>103</td>\n",
              "      <td>4739.0</td>\n",
              "      <td>4739</td>\n",
              "    </tr>\n",
              "    <tr>\n",
              "      <th>4</th>\n",
              "      <td>BEMOL BARROSO</td>\n",
              "      <td>Claro</td>\n",
              "      <td>107</td>\n",
              "      <td>1495.0</td>\n",
              "      <td>1495</td>\n",
              "    </tr>\n",
              "  </tbody>\n",
              "</table>\n",
              "</div>"
            ],
            "text/plain": [
              "            loja operadora  escritorio  valor_bruto  valor_liquido\n",
              "0  BEMOL AVENIDA     Claro         103       2651.0           2652\n",
              "1  BEMOL AVENIDA        Oi         103       3309.0           3309\n",
              "2  BEMOL AVENIDA       Tim         103       1550.0           1550\n",
              "3  BEMOL AVENIDA      Vivo         103       4739.0           4739\n",
              "4  BEMOL BARROSO     Claro         107       1495.0           1495"
            ]
          },
          "metadata": {
            "tags": []
          },
          "execution_count": 572
        }
      ]
    },
    {
      "cell_type": "markdown",
      "metadata": {
        "id": "BCO_GKEZYicx",
        "colab_type": "text"
      },
      "source": [
        "### Tratando o pós merge"
      ]
    },
    {
      "cell_type": "markdown",
      "metadata": {
        "id": "8QAmzB8cZMBr",
        "colab_type": "text"
      },
      "source": [
        "Na minha análise não encontrei valores faltantes. Mas mesmo assim vou utilizar o fillna para substituir os mesmos por 0 se houver. "
      ]
    },
    {
      "cell_type": "code",
      "metadata": {
        "id": "f73RYBvIY6xG",
        "colab_type": "code",
        "colab": {}
      },
      "source": [
        "df_relatorio = df_relatorio.fillna(0)"
      ],
      "execution_count": 0,
      "outputs": []
    },
    {
      "cell_type": "markdown",
      "metadata": {
        "id": "Jqz2pF2hZjJ9",
        "colab_type": "text"
      },
      "source": [
        "# **Regra de Negócio**"
      ]
    },
    {
      "cell_type": "code",
      "metadata": {
        "id": "F0a-UYZMZk0h",
        "colab_type": "code",
        "colab": {}
      },
      "source": [
        "def status(valor_liquido, valor_bruto):\n",
        "  if (valor_liquido != valor_bruto):\n",
        "    return 'alerta'\n",
        "  else:\n",
        "    return ''"
      ],
      "execution_count": 0,
      "outputs": []
    },
    {
      "cell_type": "code",
      "metadata": {
        "id": "ZhGPIR0Ydbfu",
        "colab_type": "code",
        "colab": {}
      },
      "source": [
        "df_relatorio['status'] = df_relatorio.apply(lambda row: status(row['valor_liquido'], row['valor_bruto']), axis='columns')"
      ],
      "execution_count": 0,
      "outputs": []
    },
    {
      "cell_type": "code",
      "metadata": {
        "id": "1Z87RyeCdvJE",
        "colab_type": "code",
        "outputId": "40e42c72-cbff-48c2-9e95-62f2836cf642",
        "colab": {
          "base_uri": "https://localhost:8080/",
          "height": 419
        }
      },
      "source": [
        "df_relatorio"
      ],
      "execution_count": 0,
      "outputs": [
        {
          "output_type": "execute_result",
          "data": {
            "text/html": [
              "<div>\n",
              "<style scoped>\n",
              "    .dataframe tbody tr th:only-of-type {\n",
              "        vertical-align: middle;\n",
              "    }\n",
              "\n",
              "    .dataframe tbody tr th {\n",
              "        vertical-align: top;\n",
              "    }\n",
              "\n",
              "    .dataframe thead th {\n",
              "        text-align: right;\n",
              "    }\n",
              "</style>\n",
              "<table border=\"1\" class=\"dataframe\">\n",
              "  <thead>\n",
              "    <tr style=\"text-align: right;\">\n",
              "      <th></th>\n",
              "      <th>loja</th>\n",
              "      <th>operadora</th>\n",
              "      <th>escritorio</th>\n",
              "      <th>valor_bruto</th>\n",
              "      <th>valor_liquido</th>\n",
              "      <th>status</th>\n",
              "    </tr>\n",
              "  </thead>\n",
              "  <tbody>\n",
              "    <tr>\n",
              "      <th>0</th>\n",
              "      <td>BEMOL AVENIDA</td>\n",
              "      <td>Claro</td>\n",
              "      <td>103</td>\n",
              "      <td>2651.0</td>\n",
              "      <td>2652</td>\n",
              "      <td>alerta</td>\n",
              "    </tr>\n",
              "    <tr>\n",
              "      <th>1</th>\n",
              "      <td>BEMOL AVENIDA</td>\n",
              "      <td>Oi</td>\n",
              "      <td>103</td>\n",
              "      <td>3309.0</td>\n",
              "      <td>3309</td>\n",
              "      <td></td>\n",
              "    </tr>\n",
              "    <tr>\n",
              "      <th>2</th>\n",
              "      <td>BEMOL AVENIDA</td>\n",
              "      <td>Tim</td>\n",
              "      <td>103</td>\n",
              "      <td>1550.0</td>\n",
              "      <td>1550</td>\n",
              "      <td></td>\n",
              "    </tr>\n",
              "    <tr>\n",
              "      <th>3</th>\n",
              "      <td>BEMOL AVENIDA</td>\n",
              "      <td>Vivo</td>\n",
              "      <td>103</td>\n",
              "      <td>4739.0</td>\n",
              "      <td>4739</td>\n",
              "      <td></td>\n",
              "    </tr>\n",
              "    <tr>\n",
              "      <th>4</th>\n",
              "      <td>BEMOL BARROSO</td>\n",
              "      <td>Claro</td>\n",
              "      <td>107</td>\n",
              "      <td>1495.0</td>\n",
              "      <td>1495</td>\n",
              "      <td></td>\n",
              "    </tr>\n",
              "    <tr>\n",
              "      <th>...</th>\n",
              "      <td>...</td>\n",
              "      <td>...</td>\n",
              "      <td>...</td>\n",
              "      <td>...</td>\n",
              "      <td>...</td>\n",
              "      <td>...</td>\n",
              "    </tr>\n",
              "    <tr>\n",
              "      <th>158</th>\n",
              "      <td>LOJA BEMOL FARMA JI PARANA</td>\n",
              "      <td>Oi</td>\n",
              "      <td>616</td>\n",
              "      <td>95.0</td>\n",
              "      <td>95</td>\n",
              "      <td></td>\n",
              "    </tr>\n",
              "    <tr>\n",
              "      <th>159</th>\n",
              "      <td>LOJA BEMOL FARMA JI PARANA</td>\n",
              "      <td>Tim</td>\n",
              "      <td>616</td>\n",
              "      <td>50.0</td>\n",
              "      <td>50</td>\n",
              "      <td></td>\n",
              "    </tr>\n",
              "    <tr>\n",
              "      <th>160</th>\n",
              "      <td>LOJA BEMOL FARMA JI PARANA</td>\n",
              "      <td>Vivo</td>\n",
              "      <td>616</td>\n",
              "      <td>70.0</td>\n",
              "      <td>70</td>\n",
              "      <td></td>\n",
              "    </tr>\n",
              "    <tr>\n",
              "      <th>161</th>\n",
              "      <td>LOJA BEMOL JI-PARANA</td>\n",
              "      <td>Claro</td>\n",
              "      <td>205</td>\n",
              "      <td>123.0</td>\n",
              "      <td>123</td>\n",
              "      <td></td>\n",
              "    </tr>\n",
              "    <tr>\n",
              "      <th>162</th>\n",
              "      <td>0</td>\n",
              "      <td>Tim</td>\n",
              "      <td>614</td>\n",
              "      <td>0.0</td>\n",
              "      <td>10</td>\n",
              "      <td>alerta</td>\n",
              "    </tr>\n",
              "  </tbody>\n",
              "</table>\n",
              "<p>163 rows × 6 columns</p>\n",
              "</div>"
            ],
            "text/plain": [
              "                           loja operadora  ...  valor_liquido  status\n",
              "0                 BEMOL AVENIDA     Claro  ...           2652  alerta\n",
              "1                 BEMOL AVENIDA        Oi  ...           3309        \n",
              "2                 BEMOL AVENIDA       Tim  ...           1550        \n",
              "3                 BEMOL AVENIDA      Vivo  ...           4739        \n",
              "4                 BEMOL BARROSO     Claro  ...           1495        \n",
              "..                          ...       ...  ...            ...     ...\n",
              "158  LOJA BEMOL FARMA JI PARANA        Oi  ...             95        \n",
              "159  LOJA BEMOL FARMA JI PARANA       Tim  ...             50        \n",
              "160  LOJA BEMOL FARMA JI PARANA      Vivo  ...             70        \n",
              "161        LOJA BEMOL JI-PARANA     Claro  ...            123        \n",
              "162                           0       Tim  ...             10  alerta\n",
              "\n",
              "[163 rows x 6 columns]"
            ]
          },
          "metadata": {
            "tags": []
          },
          "execution_count": 576
        }
      ]
    },
    {
      "cell_type": "markdown",
      "metadata": {
        "id": "qb16VJO1knHE",
        "colab_type": "text"
      },
      "source": [
        "# **Exportanto Dados**"
      ]
    },
    {
      "cell_type": "code",
      "metadata": {
        "id": "0RZW8ifxk59U",
        "colab_type": "code",
        "colab": {}
      },
      "source": [
        "writer = pd.ExcelWriter('Relatório final.xlsx')\n",
        "\n",
        "df_relatorio.to_excel(writer, sheet_name='relatorio', index=False)\n",
        "\n",
        "writer.save()"
      ],
      "execution_count": 0,
      "outputs": []
    }
  ]
}