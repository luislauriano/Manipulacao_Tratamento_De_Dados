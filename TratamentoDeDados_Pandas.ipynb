{
  "nbformat": 4,
  "nbformat_minor": 0,
  "metadata": {
    "colab": {
      "name": "TratamentoDeDados_Pandas.ipynb",
      "provenance": []
    },
    "kernelspec": {
      "display_name": "Python 3",
      "language": "python",
      "name": "python3"
    },
    "language_info": {
      "codemirror_mode": {
        "name": "ipython",
        "version": 3
      },
      "file_extension": ".py",
      "mimetype": "text/x-python",
      "name": "python",
      "nbconvert_exporter": "python",
      "pygments_lexer": "ipython3",
      "version": "3.8.1"
    }
  },
  "cells": [
    {
      "cell_type": "code",
      "metadata": {
        "colab_type": "code",
        "id": "WnhC7VNuPByU",
        "colab": {}
      },
      "source": [
        "import pandas as pd "
      ],
      "execution_count": 0,
      "outputs": []
    },
    {
      "cell_type": "markdown",
      "metadata": {
        "colab_type": "text",
        "id": "_WY3usxmW3cU"
      },
      "source": [
        "# **Leitura de Arquivos**"
      ]
    },
    {
      "cell_type": "markdown",
      "metadata": {
        "colab_type": "text",
        "id": "IG18FCuKW9WN"
      },
      "source": [
        "## Arquivos CSV e TXT"
      ]
    },
    {
      "cell_type": "markdown",
      "metadata": {
        "colab_type": "text",
        "id": "IxDnKs9QXIgF"
      },
      "source": [
        "pd.read_csv('nome_do_arquivo.extensao', sep = 'caracter que sepada os dados', skiprows = numero de linhas a serem puladas)"
      ]
    },
    {
      "cell_type": "code",
      "metadata": {
        "colab_type": "code",
        "id": "tp72knvJYf4j",
        "colab": {}
      },
      "source": [
        "df_materiais = pd.read_csv('materiais.csv',sep=';')"
      ],
      "execution_count": 0,
      "outputs": []
    },
    {
      "cell_type": "code",
      "metadata": {
        "colab_type": "code",
        "id": "Ok6wRILXZW8y",
        "colab": {}
      },
      "source": [
        "df_pedidos = pd.read_csv('pedidos.txt',sep='|',skiprows=2, encoding = 'latin-1')"
      ],
      "execution_count": 0,
      "outputs": []
    },
    {
      "cell_type": "markdown",
      "metadata": {
        "colab_type": "text",
        "id": "RByBj1SMbPX-"
      },
      "source": [
        "## Arquivos XLSX"
      ]
    },
    {
      "cell_type": "markdown",
      "metadata": {
        "colab_type": "text",
        "id": "OOgXEE1NbTeM"
      },
      "source": [
        "pd.read_excel('nome_do_arquivo.extensao', sheet_name='nome da aba', skiprows = numero de linhas a serem puladas)"
      ]
    },
    {
      "cell_type": "code",
      "metadata": {
        "colab_type": "code",
        "id": "Sfae__ZDa91B",
        "colab": {}
      },
      "source": [
        "df_vendas1 = pd.read_excel('vendas_1.xlsx',sheet_name='vendas')"
      ],
      "execution_count": 0,
      "outputs": []
    },
    {
      "cell_type": "code",
      "metadata": {
        "colab_type": "code",
        "id": "L9WBcrV-b-Up",
        "colab": {}
      },
      "source": [
        "df_vendas2 = pd.read_excel('vendas_2.xlsx',sheet_name='vendas')"
      ],
      "execution_count": 0,
      "outputs": []
    },
    {
      "cell_type": "markdown",
      "metadata": {
        "colab_type": "text",
        "id": "vQcebA4OceSE"
      },
      "source": [
        "# **Tratamento de Dados**"
      ]
    },
    {
      "cell_type": "markdown",
      "metadata": {
        "colab_type": "text",
        "id": "eT7gMIk_cgn8"
      },
      "source": [
        "## Renomeando colunas"
      ]
    },
    {
      "cell_type": "markdown",
      "metadata": {
        "colab_type": "text",
        "id": "Y3sQ4PsngOU8"
      },
      "source": [
        "df.rename(columns={'coluna_antiga':'coluna_nova', 'coluna_antiga2': 'coluna_nova2'})"
      ]
    },
    {
      "cell_type": "code",
      "metadata": {
        "colab_type": "code",
        "id": "RZbJ7KARhJeT",
        "colab": {}
      },
      "source": [
        "df_materiais = df_materiais.rename(columns = {'Material':'material','Texto breve material':'texto_breve'})"
      ],
      "execution_count": 0,
      "outputs": []
    },
    {
      "cell_type": "markdown",
      "metadata": {
        "colab_type": "text",
        "id": "FVOgRjcSh0lV"
      },
      "source": [
        "df.columns = ['coluna_nova','coluna_nova2',...]"
      ]
    },
    {
      "cell_type": "code",
      "metadata": {
        "colab_type": "code",
        "id": "p68l90edcQ9r",
        "colab": {}
      },
      "source": [
        "df_pedidos.columns = ['fornecedor','material','qtd_pedido','texto_breve','qtd_estoque']"
      ],
      "execution_count": 0,
      "outputs": []
    },
    {
      "cell_type": "code",
      "metadata": {
        "colab_type": "code",
        "id": "z-zDUW3whJwp",
        "colab": {}
      },
      "source": [
        "df_vendas1.columns = ['data','material','qtd_vendas']"
      ],
      "execution_count": 0,
      "outputs": []
    },
    {
      "cell_type": "code",
      "metadata": {
        "colab_type": "code",
        "id": "nf0aCDYiifBH",
        "colab": {}
      },
      "source": [
        "df_vendas2.columns = ['data','material','qtd_vendas']"
      ],
      "execution_count": 0,
      "outputs": []
    },
    {
      "cell_type": "markdown",
      "metadata": {
        "colab_type": "text",
        "id": "QxxY9fRRjGqY"
      },
      "source": [
        "## Verificar tipos de dados"
      ]
    },
    {
      "cell_type": "markdown",
      "metadata": {
        "colab_type": "text",
        "id": "NV4EBjcmxRrT"
      },
      "source": [
        "### Verificar tipos"
      ]
    },
    {
      "cell_type": "markdown",
      "metadata": {
        "colab_type": "text",
        "id": "XlNXVsKtkjNx"
      },
      "source": [
        "df.dtypes\n",
        "| df['coluna'].dtype"
      ]
    },
    {
      "cell_type": "code",
      "metadata": {
        "colab_type": "code",
        "id": "SzS9Gvz3jtkM",
        "outputId": "877cc66b-fe11-456e-8cf9-5214be5ccd1a",
        "colab": {
          "base_uri": "https://localhost:8080/"
        }
      },
      "source": [
        "df_materiais.dtypes"
      ],
      "execution_count": 0,
      "outputs": [
        {
          "output_type": "execute_result",
          "data": {
            "text/plain": [
              "material        int64\n",
              "texto_breve    object\n",
              "dtype: object"
            ]
          },
          "metadata": {
            "tags": []
          },
          "execution_count": 56
        }
      ]
    },
    {
      "cell_type": "code",
      "metadata": {
        "colab_type": "code",
        "id": "qEDvq4cLk6Rd",
        "outputId": "89203142-1969-46a2-8215-3b4aa07bc003",
        "colab": {
          "base_uri": "https://localhost:8080/"
        }
      },
      "source": [
        "df_pedidos.dtypes"
      ],
      "execution_count": 0,
      "outputs": [
        {
          "output_type": "execute_result",
          "data": {
            "text/plain": [
              "fornecedor       int64\n",
              "material       float64\n",
              "qtd_pedido       int64\n",
              "texto_breve     object\n",
              "qtd_estoque      int64\n",
              "dtype: object"
            ]
          },
          "metadata": {
            "tags": []
          },
          "execution_count": 57
        }
      ]
    },
    {
      "cell_type": "code",
      "metadata": {
        "colab_type": "code",
        "id": "KPtJAW-flVgX",
        "outputId": "40323173-7a4e-4a40-bf8d-e5a4a41d4da9",
        "colab": {
          "base_uri": "https://localhost:8080/"
        }
      },
      "source": [
        "df_vendas1.dtypes"
      ],
      "execution_count": 0,
      "outputs": [
        {
          "output_type": "execute_result",
          "data": {
            "text/plain": [
              "data          object\n",
              "material       int64\n",
              "qtd_vendas     int64\n",
              "dtype: object"
            ]
          },
          "metadata": {
            "tags": []
          },
          "execution_count": 58
        }
      ]
    },
    {
      "cell_type": "code",
      "metadata": {
        "colab_type": "code",
        "id": "KCmMRW_dlZ82",
        "outputId": "c08b1429-bb65-41a3-8409-f2c346aadc5c",
        "colab": {
          "base_uri": "https://localhost:8080/"
        }
      },
      "source": [
        "df_vendas2.dtypes"
      ],
      "execution_count": 0,
      "outputs": [
        {
          "output_type": "execute_result",
          "data": {
            "text/plain": [
              "data          object\n",
              "material       int64\n",
              "qtd_vendas     int64\n",
              "dtype: object"
            ]
          },
          "metadata": {
            "tags": []
          },
          "execution_count": 59
        }
      ]
    },
    {
      "cell_type": "markdown",
      "metadata": {
        "colab_type": "text",
        "id": "QbquTfLhxVvM"
      },
      "source": [
        "### Alterando tipode de uma coluna"
      ]
    },
    {
      "cell_type": "markdown",
      "metadata": {
        "colab_type": "text",
        "id": "ExoyUxm8xhN1"
      },
      "source": [
        "df['coluna'].astype() (int ou float ou str)"
      ]
    },
    {
      "cell_type": "code",
      "metadata": {
        "colab_type": "code",
        "id": "TuUaldCLlc0l",
        "colab": {}
      },
      "source": [
        "df_pedidos['qtd_pedido'] = df_pedidos['qtd_pedido'].astype(int)"
      ],
      "execution_count": 0,
      "outputs": []
    },
    {
      "cell_type": "markdown",
      "metadata": {
        "colab_type": "text",
        "id": "s0yo1Xt6oRw4"
      },
      "source": [
        "## Eliminando Dados"
      ]
    },
    {
      "cell_type": "markdown",
      "metadata": {
        "colab_type": "text",
        "id": "b0OuyX51oYnN"
      },
      "source": [
        "df.drop(['coluna2','coluna3'],axis='columns')\n",
        "\n",
        "df.drop([1,2],axis='index')"
      ]
    },
    {
      "cell_type": "code",
      "metadata": {
        "colab_type": "code",
        "id": "V5uE9Em7l5Nk",
        "colab": {}
      },
      "source": [
        "df_materiais = df_materiais.drop(['texto_breve'],axis='columns')"
      ],
      "execution_count": 0,
      "outputs": []
    },
    {
      "cell_type": "markdown",
      "metadata": {
        "colab_type": "text",
        "id": "mxeN85E6phLx"
      },
      "source": [
        "df[['coluna2','coluna1']].copy()"
      ]
    },
    {
      "cell_type": "code",
      "metadata": {
        "colab_type": "code",
        "id": "wn5yFufHo10I",
        "colab": {}
      },
      "source": [
        "df_pedidos = df_pedidos[['material','qtd_pedido','qtd_estoque']].copy()"
      ],
      "execution_count": 0,
      "outputs": []
    },
    {
      "cell_type": "code",
      "metadata": {
        "colab_type": "code",
        "id": "la_B-xZEp8VG",
        "colab": {}
      },
      "source": [
        "df_vendas1 = df_vendas1[['material','qtd_vendas']].copy()"
      ],
      "execution_count": 0,
      "outputs": []
    },
    {
      "cell_type": "code",
      "metadata": {
        "colab_type": "code",
        "id": "KOQ-sbZ-qNjU",
        "colab": {}
      },
      "source": [
        "df_vendas2 = df_vendas2[['material','qtd_vendas']].copy()"
      ],
      "execution_count": 0,
      "outputs": []
    },
    {
      "cell_type": "markdown",
      "metadata": {
        "colab_type": "text",
        "id": "72HNj7PKs3uH"
      },
      "source": [
        "# Concatenar tabelas (Juntar tabelas)"
      ]
    },
    {
      "cell_type": "code",
      "metadata": {
        "colab_type": "code",
        "id": "NuiNF9Qxqopj",
        "outputId": "71ca01f0-9c84-4155-c5e0-852d48b5edd5",
        "colab": {
          "base_uri": "https://localhost:8080/",
          "height": 68
        }
      },
      "source": [
        "df_vendas1.dtypes"
      ],
      "execution_count": 0,
      "outputs": [
        {
          "output_type": "execute_result",
          "data": {
            "text/plain": [
              "material      int64\n",
              "qtd_vendas    int64\n",
              "dtype: object"
            ]
          },
          "metadata": {
            "tags": []
          },
          "execution_count": 65
        }
      ]
    },
    {
      "cell_type": "code",
      "metadata": {
        "colab_type": "code",
        "id": "EMJP2H61tLAB",
        "outputId": "cdc72b24-0cb4-4511-a987-37d5f04d6ac7",
        "colab": {
          "base_uri": "https://localhost:8080/",
          "height": 68
        }
      },
      "source": [
        "df_vendas2.dtypes"
      ],
      "execution_count": 0,
      "outputs": [
        {
          "output_type": "execute_result",
          "data": {
            "text/plain": [
              "material      int64\n",
              "qtd_vendas    int64\n",
              "dtype: object"
            ]
          },
          "metadata": {
            "tags": []
          },
          "execution_count": 66
        }
      ]
    },
    {
      "cell_type": "markdown",
      "metadata": {
        "colab_type": "text",
        "id": "0Yq5tPietcMD"
      },
      "source": [
        "pd.concat([df_vendas1,df_vendas2])"
      ]
    },
    {
      "cell_type": "code",
      "metadata": {
        "colab_type": "code",
        "id": "SCWakxqltvAH",
        "outputId": "4acb6e17-c81c-4c54-ed85-788f8104553b",
        "colab": {
          "base_uri": "https://localhost:8080/",
          "height": 34
        }
      },
      "source": [
        "df_vendas1.shape"
      ],
      "execution_count": 0,
      "outputs": [
        {
          "output_type": "execute_result",
          "data": {
            "text/plain": [
              "(8657, 2)"
            ]
          },
          "metadata": {
            "tags": []
          },
          "execution_count": 67
        }
      ]
    },
    {
      "cell_type": "code",
      "metadata": {
        "colab_type": "code",
        "id": "pRDZTx2-tvJ0",
        "outputId": "de311c5c-3d6b-45b0-ad61-b3bd74e56792",
        "colab": {
          "base_uri": "https://localhost:8080/",
          "height": 34
        }
      },
      "source": [
        "df_vendas2.shape"
      ],
      "execution_count": 0,
      "outputs": [
        {
          "output_type": "execute_result",
          "data": {
            "text/plain": [
              "(8144, 2)"
            ]
          },
          "metadata": {
            "tags": []
          },
          "execution_count": 68
        }
      ]
    },
    {
      "cell_type": "code",
      "metadata": {
        "colab_type": "code",
        "id": "qV357k-YtPCe",
        "colab": {}
      },
      "source": [
        "df_vendas = pd.concat([df_vendas1,df_vendas2])"
      ],
      "execution_count": 0,
      "outputs": []
    },
    {
      "cell_type": "code",
      "metadata": {
        "colab_type": "code",
        "id": "mEJkxvBdtsyD",
        "colab": {}
      },
      "source": [
        "df_vendas = df_vendas.reset_index(drop=True)"
      ],
      "execution_count": 0,
      "outputs": []
    },
    {
      "cell_type": "markdown",
      "metadata": {
        "colab_type": "text",
        "id": "7bO6m8icXwVD"
      },
      "source": [
        "# **Correlação de Tabelas**"
      ]
    },
    {
      "cell_type": "markdown",
      "metadata": {
        "colab_type": "text",
        "id": "mluU-m72X43Z"
      },
      "source": [
        "## Agrupamento de dados"
      ]
    },
    {
      "cell_type": "markdown",
      "metadata": {
        "colab_type": "text",
        "id": "_grPA7idZCI3"
      },
      "source": [
        "df.groupby(['colunas a serem agrupadas']).agg({'coluna1':'sum','coluna2':'mean','coluna3':'max', 'coluna4':'min','coluna5':'first'}).reset_index()"
      ]
    },
    {
      "cell_type": "markdown",
      "metadata": {
        "id": "NJtv5YHhoI2n",
        "colab_type": "text"
      },
      "source": [
        "1. lista = [colunas a serem agrupadas]\n",
        "2. dict = {'coluna_x':'funcao'}"
      ]
    },
    {
      "cell_type": "markdown",
      "metadata": {
        "id": "dq8Lh2EVBtyk",
        "colab_type": "text"
      },
      "source": [
        "Agora para aqueles materiais(linhas) iguais  que estao se repetindo após a concatenação, vamos somar os seus valores e tranformar em unico registro (linha). "
      ]
    },
    {
      "cell_type": "markdown",
      "metadata": {
        "id": "1puIHorvCLZn",
        "colab_type": "text"
      },
      "source": [
        "Vamos usar o **groupby** para agrupar e **sum** para somar"
      ]
    },
    {
      "cell_type": "code",
      "metadata": {
        "colab_type": "code",
        "id": "BHMePq1qv5XL",
        "colab": {}
      },
      "source": [
        "df_pedidos = df_pedidos.groupby(['material']).agg({'qtd_pedido':'sum','qtd_estoque':'sum'}).reset_index()"
      ],
      "execution_count": 0,
      "outputs": []
    },
    {
      "cell_type": "code",
      "metadata": {
        "colab_type": "code",
        "id": "TE1jIgyOcaEk",
        "colab": {}
      },
      "source": [
        "df_vendas = df_vendas.groupby(['material']).agg({'qtd_vendas':'sum'}).reset_index()"
      ],
      "execution_count": 0,
      "outputs": []
    },
    {
      "cell_type": "code",
      "metadata": {
        "id": "iy_YqZTOSBVh",
        "colab_type": "code",
        "outputId": "3cbc53d4-2901-411b-8f6e-c9fa4505d055",
        "colab": {
          "base_uri": "https://localhost:8080/"
        }
      },
      "source": [
        "df_vendas.head()"
      ],
      "execution_count": 0,
      "outputs": [
        {
          "output_type": "execute_result",
          "data": {
            "text/html": [
              "<div>\n",
              "<style scoped>\n",
              "    .dataframe tbody tr th:only-of-type {\n",
              "        vertical-align: middle;\n",
              "    }\n",
              "\n",
              "    .dataframe tbody tr th {\n",
              "        vertical-align: top;\n",
              "    }\n",
              "\n",
              "    .dataframe thead th {\n",
              "        text-align: right;\n",
              "    }\n",
              "</style>\n",
              "<table border=\"1\" class=\"dataframe\">\n",
              "  <thead>\n",
              "    <tr style=\"text-align: right;\">\n",
              "      <th></th>\n",
              "      <th>material</th>\n",
              "      <th>qtd_vendas</th>\n",
              "    </tr>\n",
              "  </thead>\n",
              "  <tbody>\n",
              "    <tr>\n",
              "      <th>0</th>\n",
              "      <td>4000013</td>\n",
              "      <td>6</td>\n",
              "    </tr>\n",
              "    <tr>\n",
              "      <th>1</th>\n",
              "      <td>4000014</td>\n",
              "      <td>1</td>\n",
              "    </tr>\n",
              "    <tr>\n",
              "      <th>2</th>\n",
              "      <td>4000015</td>\n",
              "      <td>8</td>\n",
              "    </tr>\n",
              "    <tr>\n",
              "      <th>3</th>\n",
              "      <td>4000016</td>\n",
              "      <td>3</td>\n",
              "    </tr>\n",
              "    <tr>\n",
              "      <th>4</th>\n",
              "      <td>4000017</td>\n",
              "      <td>6</td>\n",
              "    </tr>\n",
              "  </tbody>\n",
              "</table>\n",
              "</div>"
            ],
            "text/plain": [
              "   material  qtd_vendas\n",
              "0   4000013           6\n",
              "1   4000014           1\n",
              "2   4000015           8\n",
              "3   4000016           3\n",
              "4   4000017           6"
            ]
          },
          "metadata": {
            "tags": []
          },
          "execution_count": 73
        }
      ]
    },
    {
      "cell_type": "markdown",
      "metadata": {
        "colab_type": "text",
        "id": "AogRbyYLeEem"
      },
      "source": [
        "## Merge de tabelas "
      ]
    },
    {
      "cell_type": "markdown",
      "metadata": {
        "id": "_KeS3z-YS1HU",
        "colab_type": "text"
      },
      "source": [
        "Utilizado para unir duas tabelas através de uma ou\n",
        "mais colunas em comum"
      ]
    },
    {
      "cell_type": "markdown",
      "metadata": {
        "colab_type": "text",
        "id": "CS6Cg_63iEjp"
      },
      "source": [
        "pd.merge(df_tabela_esquerda,df_tabela_direita, on=['colunas em comum'], how='método de correlação (priorização')\n",
        "\n",
        "how poder ser: left (esquerda), rigth (direita), inner (apenas itens em comum), outer (todos os itens)"
      ]
    },
    {
      "cell_type": "code",
      "metadata": {
        "colab_type": "code",
        "id": "OYBTGUbmeXBO",
        "colab": {}
      },
      "source": [
        "df_relatorio = pd.merge(df_materiais,df_pedidos, on=['material'], how='left')"
      ],
      "execution_count": 0,
      "outputs": []
    },
    {
      "cell_type": "code",
      "metadata": {
        "colab_type": "code",
        "id": "V4gzWJVDjOaH",
        "colab": {}
      },
      "source": [
        "df_relatorio = pd.merge(df_relatorio,df_vendas, on=['material'], how='left')"
      ],
      "execution_count": 0,
      "outputs": []
    },
    {
      "cell_type": "markdown",
      "metadata": {
        "colab_type": "text",
        "id": "soAa2nq3kpV_"
      },
      "source": [
        "### Tratando o pós merge"
      ]
    },
    {
      "cell_type": "markdown",
      "metadata": {
        "colab_type": "text",
        "id": "LX69W-QOkuSY"
      },
      "source": [
        "df.fillna(qualquer valor para substituir os NaN)\n",
        "\n",
        "df['coluna'] = df['coluna'].fillna(qualquer valor para substituir os NaN)"
      ]
    },
    {
      "cell_type": "code",
      "metadata": {
        "colab_type": "code",
        "id": "W1bBJ0TdqZ1B",
        "outputId": "875f2c11-6101-4936-a6ec-d308fe9e2f1f",
        "colab": {
          "base_uri": "https://localhost:8080/"
        }
      },
      "source": [
        "df_relatorio.head(3)"
      ],
      "execution_count": 0,
      "outputs": [
        {
          "output_type": "execute_result",
          "data": {
            "text/html": [
              "<div>\n",
              "<style scoped>\n",
              "    .dataframe tbody tr th:only-of-type {\n",
              "        vertical-align: middle;\n",
              "    }\n",
              "\n",
              "    .dataframe tbody tr th {\n",
              "        vertical-align: top;\n",
              "    }\n",
              "\n",
              "    .dataframe thead th {\n",
              "        text-align: right;\n",
              "    }\n",
              "</style>\n",
              "<table border=\"1\" class=\"dataframe\">\n",
              "  <thead>\n",
              "    <tr style=\"text-align: right;\">\n",
              "      <th></th>\n",
              "      <th>material</th>\n",
              "      <th>qtd_pedido</th>\n",
              "      <th>qtd_estoque</th>\n",
              "      <th>qtd_vendas</th>\n",
              "    </tr>\n",
              "  </thead>\n",
              "  <tbody>\n",
              "    <tr>\n",
              "      <th>0</th>\n",
              "      <td>4000010</td>\n",
              "      <td>250.0</td>\n",
              "      <td>25.0</td>\n",
              "      <td>NaN</td>\n",
              "    </tr>\n",
              "    <tr>\n",
              "      <th>1</th>\n",
              "      <td>4000013</td>\n",
              "      <td>NaN</td>\n",
              "      <td>NaN</td>\n",
              "      <td>6.0</td>\n",
              "    </tr>\n",
              "    <tr>\n",
              "      <th>2</th>\n",
              "      <td>4000014</td>\n",
              "      <td>60.0</td>\n",
              "      <td>6.0</td>\n",
              "      <td>1.0</td>\n",
              "    </tr>\n",
              "  </tbody>\n",
              "</table>\n",
              "</div>"
            ],
            "text/plain": [
              "   material  qtd_pedido  qtd_estoque  qtd_vendas\n",
              "0   4000010       250.0         25.0         NaN\n",
              "1   4000013         NaN          NaN         6.0\n",
              "2   4000014        60.0          6.0         1.0"
            ]
          },
          "metadata": {
            "tags": []
          },
          "execution_count": 76
        }
      ]
    },
    {
      "cell_type": "code",
      "metadata": {
        "colab_type": "code",
        "id": "hxkvrhFdkPTQ",
        "colab": {}
      },
      "source": [
        "df_relatorio = df_relatorio.fillna(0)"
      ],
      "execution_count": 0,
      "outputs": []
    },
    {
      "cell_type": "code",
      "metadata": {
        "colab_type": "code",
        "id": "NHrB77Jdojzp",
        "outputId": "3f51e7b9-d4ce-4405-8caf-652eaf644f08",
        "colab": {
          "base_uri": "https://localhost:8080/"
        }
      },
      "source": [
        "df_relatorio.head(2)"
      ],
      "execution_count": 0,
      "outputs": [
        {
          "output_type": "execute_result",
          "data": {
            "text/html": [
              "<div>\n",
              "<style scoped>\n",
              "    .dataframe tbody tr th:only-of-type {\n",
              "        vertical-align: middle;\n",
              "    }\n",
              "\n",
              "    .dataframe tbody tr th {\n",
              "        vertical-align: top;\n",
              "    }\n",
              "\n",
              "    .dataframe thead th {\n",
              "        text-align: right;\n",
              "    }\n",
              "</style>\n",
              "<table border=\"1\" class=\"dataframe\">\n",
              "  <thead>\n",
              "    <tr style=\"text-align: right;\">\n",
              "      <th></th>\n",
              "      <th>material</th>\n",
              "      <th>qtd_pedido</th>\n",
              "      <th>qtd_estoque</th>\n",
              "      <th>qtd_vendas</th>\n",
              "    </tr>\n",
              "  </thead>\n",
              "  <tbody>\n",
              "    <tr>\n",
              "      <th>0</th>\n",
              "      <td>4000010</td>\n",
              "      <td>250.0</td>\n",
              "      <td>25.0</td>\n",
              "      <td>0.0</td>\n",
              "    </tr>\n",
              "    <tr>\n",
              "      <th>1</th>\n",
              "      <td>4000013</td>\n",
              "      <td>0.0</td>\n",
              "      <td>0.0</td>\n",
              "      <td>6.0</td>\n",
              "    </tr>\n",
              "  </tbody>\n",
              "</table>\n",
              "</div>"
            ],
            "text/plain": [
              "   material  qtd_pedido  qtd_estoque  qtd_vendas\n",
              "0   4000010       250.0         25.0         0.0\n",
              "1   4000013         0.0          0.0         6.0"
            ]
          },
          "metadata": {
            "tags": []
          },
          "execution_count": 78
        }
      ]
    },
    {
      "cell_type": "code",
      "metadata": {
        "colab_type": "code",
        "id": "BtDmgdzHkceW",
        "colab": {}
      },
      "source": [
        "df_relatorio[['qtd_pedido','qtd_estoque','qtd_vendas']] = df_relatorio[['qtd_pedido','qtd_estoque','qtd_vendas']].astype(int)"
      ],
      "execution_count": 0,
      "outputs": []
    },
    {
      "cell_type": "markdown",
      "metadata": {
        "colab_type": "text",
        "id": "hsiLtl-0rBjR"
      },
      "source": [
        "# **Regra de Negócio**"
      ]
    },
    {
      "cell_type": "markdown",
      "metadata": {
        "colab_type": "text",
        "id": "b0J9Kfw2rvzj"
      },
      "source": [
        "## Operações entre colunas (sem condicional)"
      ]
    },
    {
      "cell_type": "code",
      "metadata": {
        "colab_type": "code",
        "id": "YvzjWMqLlJyG",
        "colab": {}
      },
      "source": [
        "df_relatorio['qtd_loja'] = df_relatorio['qtd_pedido'] + df_relatorio['qtd_estoque']"
      ],
      "execution_count": 0,
      "outputs": []
    },
    {
      "cell_type": "code",
      "metadata": {
        "colab_type": "code",
        "id": "3iesELcItf6N",
        "colab": {}
      },
      "source": [
        "df_relatorio = df_relatorio[['material','qtd_loja','qtd_vendas']].copy()"
      ],
      "execution_count": 0,
      "outputs": []
    },
    {
      "cell_type": "markdown",
      "metadata": {
        "colab_type": "text",
        "id": "l9qW0B4XuDrm"
      },
      "source": [
        "## Operações entre colunas (com condicional)"
      ]
    },
    {
      "cell_type": "code",
      "metadata": {
        "colab_type": "code",
        "id": "z0xDjxQWuL03",
        "colab": {}
      },
      "source": [
        "def calcular_porcentagem(loja,vendas):\n",
        "  if (vendas!=0):\n",
        "    porcentagem = loja/vendas\n",
        "    return porcentagem\n",
        "  elif ((vendas==0) and (loja!=0)):\n",
        "    return 1.2\n",
        "  else:\n",
        "    return 0"
      ],
      "execution_count": 0,
      "outputs": []
    },
    {
      "cell_type": "markdown",
      "metadata": {
        "id": "_GnS5dWahB14",
        "colab_type": "text"
      },
      "source": [
        "A partir dessa função vamos criar uma nova coluna, a coluna porcentagem. E para aplicar a função para todas as linhas do df_relatorio vamos usar lambda."
      ]
    },
    {
      "cell_type": "markdown",
      "metadata": {
        "colab_type": "text",
        "id": "8MVvK2L0wM7p"
      },
      "source": [
        "df.apply(lambda row: funcao(row['coluna_x'] (paramêtro) ,row['coluna_y'] (paramêtro), axis='columns')"
      ]
    },
    {
      "cell_type": "code",
      "metadata": {
        "colab_type": "code",
        "id": "r9VJk2lTxDtw",
        "colab": {}
      },
      "source": [
        "df_relatorio['porcentagem'] = df_relatorio.apply(lambda row: calcular_porcentagem(row['qtd_loja'],row['qtd_vendas']), axis='columns')"
      ],
      "execution_count": 0,
      "outputs": []
    },
    {
      "cell_type": "markdown",
      "metadata": {
        "id": "-f9UVmG0juLv",
        "colab_type": "text"
      },
      "source": [
        "O **row** serve para aplicar a coluna que deve ser passada como paramêtro para a função que criamos, **calcular_porcentagem**"
      ]
    },
    {
      "cell_type": "markdown",
      "metadata": {
        "id": "FI0qs67ui4tR",
        "colab_type": "text"
      },
      "source": [
        "Agora vamos criar uma nova coluna, a coluna status. Também vamos usar lambda p/ aplicar a função de status que vamos criar p/ todas as linhas do df_relatorio."
      ]
    },
    {
      "cell_type": "code",
      "metadata": {
        "colab_type": "code",
        "id": "2CwSyF3otu80",
        "colab": {}
      },
      "source": [
        "def verificar_status(porc):\n",
        "  if (porc>=1.2):\n",
        "    return 'alerta'\n",
        "  else:\n",
        "    return ''"
      ],
      "execution_count": 0,
      "outputs": []
    },
    {
      "cell_type": "code",
      "metadata": {
        "colab_type": "code",
        "id": "_2BGd2KpxuaS",
        "colab": {}
      },
      "source": [
        "df_relatorio['status'] = df_relatorio.apply(lambda row: verificar_status(row['porcentagem']), axis='columns')"
      ],
      "execution_count": 0,
      "outputs": []
    },
    {
      "cell_type": "markdown",
      "metadata": {
        "id": "KzHmVnCUjdWA",
        "colab_type": "text"
      },
      "source": [
        "Veja que aqui só usamos uma coluna, porque a nossa função status só utiliza um paramêtro. Entao só passamos uma coluna como paramêtro."
      ]
    },
    {
      "cell_type": "markdown",
      "metadata": {
        "colab_type": "text",
        "id": "nbj1PO290dnU"
      },
      "source": [
        "# **Filtro de dados**"
      ]
    },
    {
      "cell_type": "markdown",
      "metadata": {
        "colab_type": "text",
        "id": "ATqNfztB0v_O"
      },
      "source": [
        "df[(condicao do filtro)]\n",
        "\n",
        "and - &\n",
        "or - |"
      ]
    },
    {
      "cell_type": "markdown",
      "metadata": {
        "id": "HvQDzsotouZM",
        "colab_type": "text"
      },
      "source": [
        "Vamos filtrar, visualizar apenas os valores da coluna status que sejam diferentes de alerta e (and) e os valores em que a coluna de loja sejam diferentes de  0."
      ]
    },
    {
      "cell_type": "code",
      "metadata": {
        "colab_type": "code",
        "id": "aB9uzuBU1Imt",
        "outputId": "859ed0aa-ccda-439b-bdc4-9858d10bfb02",
        "colab": {
          "base_uri": "https://localhost:8080/",
          "height": 204
        }
      },
      "source": [
        "# Apenas para visualizar possibilidade\n",
        "\n",
        "df_relatorio[(df_relatorio['status']!='alerta') & (df_relatorio['qtd_loja']!=0)].head(5)"
      ],
      "execution_count": 0,
      "outputs": [
        {
          "output_type": "execute_result",
          "data": {
            "text/html": [
              "<div>\n",
              "<style scoped>\n",
              "    .dataframe tbody tr th:only-of-type {\n",
              "        vertical-align: middle;\n",
              "    }\n",
              "\n",
              "    .dataframe tbody tr th {\n",
              "        vertical-align: top;\n",
              "    }\n",
              "\n",
              "    .dataframe thead th {\n",
              "        text-align: right;\n",
              "    }\n",
              "</style>\n",
              "<table border=\"1\" class=\"dataframe\">\n",
              "  <thead>\n",
              "    <tr style=\"text-align: right;\">\n",
              "      <th></th>\n",
              "      <th>material</th>\n",
              "      <th>qtd_loja</th>\n",
              "      <th>qtd_vendas</th>\n",
              "      <th>porcentagem</th>\n",
              "      <th>status</th>\n",
              "    </tr>\n",
              "  </thead>\n",
              "  <tbody>\n",
              "    <tr>\n",
              "      <th>6</th>\n",
              "      <td>4000019</td>\n",
              "      <td>7</td>\n",
              "      <td>151</td>\n",
              "      <td>0.046358</td>\n",
              "      <td></td>\n",
              "    </tr>\n",
              "    <tr>\n",
              "      <th>7</th>\n",
              "      <td>4000020</td>\n",
              "      <td>9</td>\n",
              "      <td>27</td>\n",
              "      <td>0.333333</td>\n",
              "      <td></td>\n",
              "    </tr>\n",
              "    <tr>\n",
              "      <th>139</th>\n",
              "      <td>4000173</td>\n",
              "      <td>2</td>\n",
              "      <td>3</td>\n",
              "      <td>0.666667</td>\n",
              "      <td></td>\n",
              "    </tr>\n",
              "    <tr>\n",
              "      <th>247</th>\n",
              "      <td>4000301</td>\n",
              "      <td>1</td>\n",
              "      <td>2</td>\n",
              "      <td>0.500000</td>\n",
              "      <td></td>\n",
              "    </tr>\n",
              "    <tr>\n",
              "      <th>275</th>\n",
              "      <td>4000331</td>\n",
              "      <td>1</td>\n",
              "      <td>5</td>\n",
              "      <td>0.200000</td>\n",
              "      <td></td>\n",
              "    </tr>\n",
              "  </tbody>\n",
              "</table>\n",
              "</div>"
            ],
            "text/plain": [
              "     material  qtd_loja  qtd_vendas  porcentagem status\n",
              "6     4000019         7         151     0.046358       \n",
              "7     4000020         9          27     0.333333       \n",
              "139   4000173         2           3     0.666667       \n",
              "247   4000301         1           2     0.500000       \n",
              "275   4000331         1           5     0.200000       "
            ]
          },
          "metadata": {
            "tags": []
          },
          "execution_count": 86
        }
      ]
    },
    {
      "cell_type": "markdown",
      "metadata": {
        "colab_type": "text",
        "id": "8ePwMfyg2u0F"
      },
      "source": [
        "# **Ordenar dados**"
      ]
    },
    {
      "cell_type": "markdown",
      "metadata": {
        "colab_type": "text",
        "id": "dE0dJg8x2ztD"
      },
      "source": [
        "df.sort_values([colunas a serem ordenadas], ascending=True) - crescente\n",
        "\n",
        "df.sort_values([colunas a serem ordenadas], ascending=False) - decrescente"
      ]
    },
    {
      "cell_type": "code",
      "metadata": {
        "colab_type": "code",
        "id": "UQWEhXH70jOp",
        "outputId": "fd2ff454-9fe3-47b5-bd4c-02d9b153cfb3",
        "colab": {
          "base_uri": "https://localhost:8080/",
          "height": 419
        }
      },
      "source": [
        "# Apenas para visualizar possibilidade\n",
        "\n",
        "df_relatorio.sort_values(['qtd_loja'], ascending=False)"
      ],
      "execution_count": 0,
      "outputs": [
        {
          "output_type": "execute_result",
          "data": {
            "text/html": [
              "<div>\n",
              "<style scoped>\n",
              "    .dataframe tbody tr th:only-of-type {\n",
              "        vertical-align: middle;\n",
              "    }\n",
              "\n",
              "    .dataframe tbody tr th {\n",
              "        vertical-align: top;\n",
              "    }\n",
              "\n",
              "    .dataframe thead th {\n",
              "        text-align: right;\n",
              "    }\n",
              "</style>\n",
              "<table border=\"1\" class=\"dataframe\">\n",
              "  <thead>\n",
              "    <tr style=\"text-align: right;\">\n",
              "      <th></th>\n",
              "      <th>material</th>\n",
              "      <th>qtd_loja</th>\n",
              "      <th>qtd_vendas</th>\n",
              "      <th>porcentagem</th>\n",
              "      <th>status</th>\n",
              "    </tr>\n",
              "  </thead>\n",
              "  <tbody>\n",
              "    <tr>\n",
              "      <th>2800</th>\n",
              "      <td>4004641</td>\n",
              "      <td>525</td>\n",
              "      <td>0</td>\n",
              "      <td>1.200000</td>\n",
              "      <td>alerta</td>\n",
              "    </tr>\n",
              "    <tr>\n",
              "      <th>1188</th>\n",
              "      <td>4001448</td>\n",
              "      <td>462</td>\n",
              "      <td>17</td>\n",
              "      <td>27.176471</td>\n",
              "      <td>alerta</td>\n",
              "    </tr>\n",
              "    <tr>\n",
              "      <th>877</th>\n",
              "      <td>4001064</td>\n",
              "      <td>440</td>\n",
              "      <td>3</td>\n",
              "      <td>146.666667</td>\n",
              "      <td>alerta</td>\n",
              "    </tr>\n",
              "    <tr>\n",
              "      <th>2929</th>\n",
              "      <td>4005270</td>\n",
              "      <td>401</td>\n",
              "      <td>1</td>\n",
              "      <td>401.000000</td>\n",
              "      <td>alerta</td>\n",
              "    </tr>\n",
              "    <tr>\n",
              "      <th>3579</th>\n",
              "      <td>4006391</td>\n",
              "      <td>330</td>\n",
              "      <td>0</td>\n",
              "      <td>1.200000</td>\n",
              "      <td>alerta</td>\n",
              "    </tr>\n",
              "    <tr>\n",
              "      <th>...</th>\n",
              "      <td>...</td>\n",
              "      <td>...</td>\n",
              "      <td>...</td>\n",
              "      <td>...</td>\n",
              "      <td>...</td>\n",
              "    </tr>\n",
              "    <tr>\n",
              "      <th>514</th>\n",
              "      <td>4000597</td>\n",
              "      <td>0</td>\n",
              "      <td>0</td>\n",
              "      <td>0.000000</td>\n",
              "      <td></td>\n",
              "    </tr>\n",
              "    <tr>\n",
              "      <th>513</th>\n",
              "      <td>4000596</td>\n",
              "      <td>0</td>\n",
              "      <td>0</td>\n",
              "      <td>0.000000</td>\n",
              "      <td></td>\n",
              "    </tr>\n",
              "    <tr>\n",
              "      <th>512</th>\n",
              "      <td>4000595</td>\n",
              "      <td>0</td>\n",
              "      <td>4</td>\n",
              "      <td>0.000000</td>\n",
              "      <td></td>\n",
              "    </tr>\n",
              "    <tr>\n",
              "      <th>2142</th>\n",
              "      <td>4003005</td>\n",
              "      <td>0</td>\n",
              "      <td>0</td>\n",
              "      <td>0.000000</td>\n",
              "      <td></td>\n",
              "    </tr>\n",
              "    <tr>\n",
              "      <th>2291</th>\n",
              "      <td>4003569</td>\n",
              "      <td>0</td>\n",
              "      <td>0</td>\n",
              "      <td>0.000000</td>\n",
              "      <td></td>\n",
              "    </tr>\n",
              "  </tbody>\n",
              "</table>\n",
              "<p>4582 rows × 5 columns</p>\n",
              "</div>"
            ],
            "text/plain": [
              "      material  qtd_loja  qtd_vendas  porcentagem  status\n",
              "2800   4004641       525           0     1.200000  alerta\n",
              "1188   4001448       462          17    27.176471  alerta\n",
              "877    4001064       440           3   146.666667  alerta\n",
              "2929   4005270       401           1   401.000000  alerta\n",
              "3579   4006391       330           0     1.200000  alerta\n",
              "...        ...       ...         ...          ...     ...\n",
              "514    4000597         0           0     0.000000        \n",
              "513    4000596         0           0     0.000000        \n",
              "512    4000595         0           4     0.000000        \n",
              "2142   4003005         0           0     0.000000        \n",
              "2291   4003569         0           0     0.000000        \n",
              "\n",
              "[4582 rows x 5 columns]"
            ]
          },
          "metadata": {
            "tags": []
          },
          "execution_count": 87
        }
      ]
    },
    {
      "cell_type": "markdown",
      "metadata": {
        "colab_type": "text",
        "id": "19cSfVoB3ekZ"
      },
      "source": [
        "# **Exportanto Dados**"
      ]
    },
    {
      "cell_type": "markdown",
      "metadata": {
        "colab_type": "text",
        "id": "yfpI7RJP3i4R"
      },
      "source": [
        "df.to_csv('nome_do_arquivo.csv', sep='caracter para separar os dados', index=False)"
      ]
    },
    {
      "cell_type": "code",
      "metadata": {
        "colab_type": "code",
        "id": "gyuZQnV13Hnp",
        "colab": {}
      },
      "source": [
        "df_relatorio.to_csv('Relatório_Final.csv',sep=';',index=False)"
      ],
      "execution_count": 0,
      "outputs": []
    },
    {
      "cell_type": "markdown",
      "metadata": {
        "id": "hUg7dWqJKJJ2",
        "colab_type": "text"
      },
      "source": [
        "Vamos agora exportar para excel, o tipo de exportação mais utilizado"
      ]
    },
    {
      "cell_type": "markdown",
      "metadata": {
        "colab_type": "text",
        "id": "CDC7yDpe4Upn"
      },
      "source": [
        "writer = pd.ExcelWriter('Relatório Final.xlsx')\n",
        "\n",
        "df.to_excel(writer, sheet_name='nome_aba1', index=False)\n",
        "df.to_excel(writer, sheet_name='nome_aba2',index=False)\n",
        "\n",
        "writer.save()"
      ]
    },
    {
      "cell_type": "code",
      "metadata": {
        "colab_type": "code",
        "id": "FS09grtl4K3T",
        "colab": {}
      },
      "source": [
        "writer = pd.ExcelWriter('Relatório Final.xlsx')\n",
        "\n",
        "df_relatorio.to_excel(writer, sheet_name='relatorio', index=False)\n",
        "\n",
        "writer.save()"
      ],
      "execution_count": 0,
      "outputs": []
    },
    {
      "cell_type": "markdown",
      "metadata": {
        "id": "L2ByItcBNEBP",
        "colab_type": "text"
      },
      "source": [
        " O index = False retira o index do nosso arquivo em excel "
      ]
    },
    {
      "cell_type": "markdown",
      "metadata": {
        "id": "m4F5NeLqODas",
        "colab_type": "text"
      },
      "source": [
        "Podemos colocar um executavel do python em uma mesma pasta com os arquivos que foram utilizados para criar nosso conjunto de dados. Assim poderiamos alterar os arquivos e ao dar dois cliques no executavel (esse notebook que criamos) ele já atualiza um novo conjunto de dados."
      ]
    }
  ]
}